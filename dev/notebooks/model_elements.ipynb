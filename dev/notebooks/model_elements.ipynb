{
 "cells": [
  {
   "cell_type": "markdown",
   "source": [
    "# Springpot"
   ],
   "metadata": {}
  },
  {
   "outputs": [],
   "cell_type": "code",
   "source": [
    "using RHEOS\n",
    "# include a helper function for plotting\n",
    "include(\"assets/plothelper.jl\");"
   ],
   "metadata": {},
   "execution_count": null
  },
  {
   "cell_type": "markdown",
   "source": [
    "By typing the name of the model, it is possible to visualise its graphical representation and its parameters."
   ],
   "metadata": {}
  },
  {
   "outputs": [],
   "cell_type": "code",
   "source": [
    "Springpot"
   ],
   "metadata": {},
   "execution_count": null
  },
  {
   "cell_type": "markdown",
   "source": [
    "#### Constitutive Equation\n",
    "$$\n",
    "\\sigma(t) = c_{\\beta} \\frac{d^\\beta \\epsilon(t)}{dt^\\beta}\n",
    "$$"
   ],
   "metadata": {}
  },
  {
   "cell_type": "markdown",
   "source": [
    "$$\n",
    "\\text{for}\\; \\ 0 \\leq \\beta \\leq 1\n",
    "$$"
   ],
   "metadata": {}
  },
  {
   "cell_type": "markdown",
   "source": [
    "#### Relaxation Modulus\n",
    "$$\n",
    "G(t) = \\frac{c_{\\beta} }{\\Gamma(1-\\beta)} t^{-\\beta}\n",
    "$$"
   ],
   "metadata": {}
  },
  {
   "cell_type": "markdown",
   "source": [
    "#### Creep Modulus\n",
    "$$\n",
    "J(t) = \\frac{1}{c_\\beta \\Gamma(1+\\beta)}t^\\beta\n",
    "$$"
   ],
   "metadata": {}
  },
  {
   "cell_type": "markdown",
   "source": [
    "#### Storage Modulus\n",
    "$$\n",
    "G^{\\prime}(\\omega) = c_\\beta \\omega^\\beta \\cos(\\frac{\\pi}{2}\\beta)\n",
    "$$"
   ],
   "metadata": {}
  },
  {
   "cell_type": "markdown",
   "source": [
    "#### Loss Modulus\n",
    "$$\n",
    "G^{\\prime\\prime}(\\omega) = c_\\beta \\omega^\\beta \\sin(\\frac{\\pi}{2}\\beta)\n",
    "$$"
   ],
   "metadata": {}
  },
  {
   "cell_type": "markdown",
   "source": [
    "# Spring"
   ],
   "metadata": {}
  },
  {
   "cell_type": "markdown",
   "source": [
    "When β = 0 the springpot specialises to a spring."
   ],
   "metadata": {}
  },
  {
   "outputs": [],
   "cell_type": "code",
   "source": [
    "Spring"
   ],
   "metadata": {},
   "execution_count": null
  },
  {
   "cell_type": "markdown",
   "source": [
    "# Dashpot"
   ],
   "metadata": {}
  },
  {
   "cell_type": "markdown",
   "source": [
    "When β = 1 the springpot specialises to a dashpot."
   ],
   "metadata": {}
  },
  {
   "outputs": [],
   "cell_type": "code",
   "source": [
    "Dashpot"
   ],
   "metadata": {},
   "execution_count": null
  },
  {
   "cell_type": "markdown",
   "source": [
    "## Qualitative Behaviours of the Moduli"
   ],
   "metadata": {}
  },
  {
   "outputs": [],
   "cell_type": "code",
   "source": [
    "models = Vector{RheoModel}()\n",
    "\n",
    "# Spring\n",
    "push!(models, RheoModel(Spring, k = 1.0))\n",
    "\n",
    "# plot moduli for varying β\n",
    "for beta in [0.2, 0.5, 0.8]\n",
    "\n",
    "    push!(models, RheoModel(Springpot, cᵦ = 1.0, β = beta))\n",
    "\n",
    "end\n",
    "\n",
    "# Dashpot\n",
    "push!(models, RheoModel(Dashpot, η = 1.0))\n",
    "\n",
    "plotmodel(models, ymaxG = 2.0)"
   ],
   "metadata": {},
   "execution_count": null
  },
  {
   "cell_type": "markdown",
   "source": [
    "---\n",
    "\n",
    "*This notebook was generated using [Literate.jl](https://github.com/fredrikekre/Literate.jl).*"
   ],
   "metadata": {}
  }
 ],
 "nbformat_minor": 3,
 "metadata": {
  "language_info": {
   "file_extension": ".jl",
   "mimetype": "application/julia",
   "name": "julia",
   "version": "1.10.4"
  },
  "kernelspec": {
   "name": "julia-1.10",
   "display_name": "Julia 1.10.4",
   "language": "julia"
  }
 },
 "nbformat": 4
}
