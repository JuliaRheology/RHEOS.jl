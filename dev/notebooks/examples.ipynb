{
 "cells": [
  {
   "cell_type": "markdown",
   "source": [
    "# Additional Examples"
   ],
   "metadata": {}
  },
  {
   "cell_type": "markdown",
   "source": [
    "[PyPlot](https://github.com/JuliaPy/PyPlot.jl) needs to be installed to run these examples and display plots of the data."
   ],
   "metadata": {}
  },
  {
   "outputs": [],
   "cell_type": "code",
   "source": [
    "using PyPlot\n",
    "\n",
    "using RHEOS"
   ],
   "metadata": {},
   "execution_count": null
  },
  {
   "cell_type": "markdown",
   "source": [
    "## Example 1"
   ],
   "metadata": {}
  },
  {
   "cell_type": "markdown",
   "source": [
    "- Loading experimental data from a .csv file\n",
    "- Fitting a model\n",
    "- Compare original data with fitted model prediction"
   ],
   "metadata": {}
  },
  {
   "outputs": [],
   "cell_type": "code",
   "source": [
    "# Make sure the examples folder is the current directory\n",
    "# check by typing \"pwd()\"\n",
    "\n",
    "# Import data\n",
    "data = importcsv(\"assets/example1_data.csv\", t_col = 1, ϵ_col = 2, σ_col = 3)\n",
    "\n",
    "# Plot data\n",
    "fig, ax = subplots(1, 1, figsize = (7, 5))\n",
    "ax.plot(data.t, data.σ, \".\", color = \"green\")\n",
    "ax.plot(data.t, data.ϵ, \"-\", color = \"blue\")\n",
    "ax.set_ylabel(\"Strain (blue), Stress (green)\")\n",
    "ax.set_xlabel(\"Time\")"
   ],
   "metadata": {},
   "execution_count": null
  },
  {
   "outputs": [],
   "cell_type": "code",
   "source": [
    "# We now fit a Maxwell model\n",
    "maxwell_model = modelfit(data, Maxwell, strain_imposed)"
   ],
   "metadata": {},
   "execution_count": null
  },
  {
   "cell_type": "markdown",
   "source": [
    "Note that the fitting function requires guidance regarding the type of testing used. It helps optimise the fitting process."
   ],
   "metadata": {}
  },
  {
   "cell_type": "markdown",
   "source": [
    "The data in this example is the stress response to a strain ramp followed by plateau. It therefore corresponds to a strain imposed process."
   ],
   "metadata": {}
  },
  {
   "cell_type": "markdown",
   "source": [
    "We now want to calculate the stress values predicted by the model given the experimental strain data. Let's create a new data set with the strain profile."
   ],
   "metadata": {}
  },
  {
   "outputs": [],
   "cell_type": "code",
   "source": [
    "maxwell_predict = onlystrain(data)\n",
    "# and calculate the stress based on the model\n",
    "maxwell_predict = modelpredict(maxwell_predict, maxwell_model)\n",
    "# Now we can plot data and model together for comparison\n",
    "\n",
    "# Plot data\n",
    "fig, ax = subplots(1, 1, figsize = (7, 5))\n",
    "ax.plot(data.t, data.σ, \".\", color = \"green\")\n",
    "ax.plot(maxwell_predict.t, maxwell_predict.σ, color = \"red\")\n",
    "ax.set_xlabel(\"Time\")\n",
    "ax.set_ylabel(\"Stress\")"
   ],
   "metadata": {},
   "execution_count": null
  },
  {
   "cell_type": "markdown",
   "source": [
    "## Example 2"
   ],
   "metadata": {}
  },
  {
   "cell_type": "markdown",
   "source": [
    "This script is a slight modification of Example 1 to present to the user the possibility of creating new `RheoModelClass` from an existing one with some of the parameters frozen to specific values. As an example, we fix the spring constant of the model above (k) to 2 and we let RHEOS fit the viscosity η."
   ],
   "metadata": {}
  },
  {
   "outputs": [],
   "cell_type": "code",
   "source": [
    "Maxwell_springFix = freeze_params(Maxwell, k = 2)"
   ],
   "metadata": {},
   "execution_count": null
  },
  {
   "outputs": [],
   "cell_type": "code",
   "source": [
    "maxwellD_model = modelfit(data, Maxwell_springFix, strain_imposed)\n",
    "maxwellD_predict = onlystrain(data)\n",
    "# and calculate the stress based on the model\n",
    "maxwellD_predict = modelpredict(maxwellD_predict, maxwellD_model)\n",
    "# Now we can plot data and model together for comparison\n",
    "\n",
    "# Plot data\n",
    "fig, ax = subplots(1, 1, figsize = (7, 5))\n",
    "ax.plot(data.t, data.σ, \".\", color = \"green\")\n",
    "ax.plot(maxwellD_predict.t, maxwellD_predict.σ, color = \"red\")\n",
    "ax.set_xlabel(\"Time\")\n",
    "ax.set_ylabel(\"Stress\")"
   ],
   "metadata": {},
   "execution_count": null
  },
  {
   "cell_type": "markdown",
   "source": [
    "## Example 3"
   ],
   "metadata": {}
  },
  {
   "cell_type": "markdown",
   "source": [
    "This script shows how to use RHEOS to explore the behaviour of various models This involves:\n",
    "- Creating a strain function\n",
    "- Defining models based on parameter values\n",
    "PyPlot needs to be installed to run these examples and display plots of the data."
   ],
   "metadata": {}
  },
  {
   "outputs": [],
   "cell_type": "code",
   "source": [
    "# Creates a time only dataset\n",
    "dϵ = timeline(t_end = 10)\n",
    "# calculates strain data by applying a function of time\n",
    "dϵ = strainfunction(dϵ, t -> sin(t))\n",
    "\n",
    "# Plot strain data\n",
    "fig, ax = subplots(1, 1, figsize = (7, 5))\n",
    "ax.plot(dϵ.t, dϵ.ϵ, \"--b\")\n",
    "\n",
    "# we can now simulate various models based on this strain only dataset\n",
    "# Let's study the role of the dashpot strength in the MAxwell model\n",
    "for η in [0.1, 0.3, 1, 3, 10]\n",
    "    maxwell_model = RheoModel(Maxwell, k = 2., η = η)\n",
    "    d_maxwell = modelpredict(dϵ, maxwell_model)\n",
    "    ax.plot(d_maxwell.t, d_maxwell.σ)\n",
    "end\n",
    "ax.set_xlabel(\"Time\")\n",
    "ax.set_ylabel(\"Stress\")\n",
    "ax.grid(\"on\")"
   ],
   "metadata": {},
   "execution_count": null
  },
  {
   "cell_type": "markdown",
   "source": [
    "---\n",
    "\n",
    "*This notebook was generated using [Literate.jl](https://github.com/fredrikekre/Literate.jl).*"
   ],
   "metadata": {}
  }
 ],
 "nbformat_minor": 3,
 "metadata": {
  "language_info": {
   "file_extension": ".jl",
   "mimetype": "application/julia",
   "name": "julia",
   "version": "1.10.2"
  },
  "kernelspec": {
   "name": "julia-1.10",
   "display_name": "Julia 1.10.2",
   "language": "julia"
  }
 },
 "nbformat": 4
}
