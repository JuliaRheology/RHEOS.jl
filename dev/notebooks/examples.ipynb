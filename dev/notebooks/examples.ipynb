{
 "cells": [
  {
   "cell_type": "markdown",
   "source": [
    "# Additional Examples"
   ],
   "metadata": {}
  },
  {
   "cell_type": "markdown",
   "source": [
    "[PyPlot](https://github.com/JuliaPy/PyPlot.jl) needs to be installed to run these examples and display plots of the data."
   ],
   "metadata": {}
  },
  {
   "outputs": [],
   "cell_type": "code",
   "source": [
    "using PyPlot\n",
    "\n",
    "using RHEOS"
   ],
   "metadata": {},
   "execution_count": null
  },
  {
   "cell_type": "markdown",
   "source": [
    "## Example 1"
   ],
   "metadata": {}
  },
  {
   "cell_type": "markdown",
   "source": [
    "- Loading experimental data from a .csv file\n",
    "- Fitting a model\n",
    "- Compare original data with fitted model prediction"
   ],
   "metadata": {}
  },
  {
   "outputs": [],
   "cell_type": "code",
   "source": [
    "# Make sure the examples folder is the current directory\n",
    "# check by typing \"pwd()\"\n",
    "\n",
    "# Import data\n",
    "data = importcsv(\"assets/example1_data.csv\", t_col = 1, ϵ_col = 2, σ_col = 3)\n",
    "\n",
    "# Plot data\n",
    "fig, ax = subplots(1, 1, figsize = (7, 5))\n",
    "ax.plot(data.t, data.σ, \".\", color = \"green\")\n",
    "ax.plot(data.t, data.ϵ, \"-\", color = \"blue\")\n",
    "ax.set_ylabel(\"Strain (blue), Stress (green)\")\n",
    "ax.set_xlabel(\"Time\")"
   ],
   "metadata": {},
   "execution_count": null
  },
  {
   "outputs": [],
   "cell_type": "code",
   "source": [
    "# We now fit a Maxwell model\n",
    "maxwell_model = modelfit(data, Maxwell, strain_imposed)"
   ],
   "metadata": {},
   "execution_count": null
  },
  {
   "cell_type": "markdown",
   "source": [
    "Note that the fitting function requires guidance regarding the type of testing used. It helps optimise the fitting process."
   ],
   "metadata": {}
  },
  {
   "cell_type": "markdown",
   "source": [
    "The data in this example is the stress response to a strain ramp followed by plateau. It therefore corresponds to a strain imposed process."
   ],
   "metadata": {}
  },
  {
   "cell_type": "markdown",
   "source": [
    "We now want to calculate the stress values predicted by the model given the experimental strain data. Let's create a new data set with the strain profile."
   ],
   "metadata": {}
  },
  {
   "outputs": [],
   "cell_type": "code",
   "source": [
    "maxwell_predict = onlystrain(data)\n",
    "# and calculate the stress based on the model\n",
    "maxwell_predict = modelpredict(maxwell_predict, maxwell_model)\n",
    "# Now we can plot data and model together for comparison\n",
    "\n",
    "# Plot data\n",
    "fig, ax = subplots(1, 1, figsize = (7, 5))\n",
    "ax.plot(data.t, data.σ, \".\", color = \"green\")\n",
    "ax.plot(maxwell_predict.t, maxwell_predict.σ, color = \"red\")\n",
    "ax.set_xlabel(\"Time\")\n",
    "ax.set_ylabel(\"Stress\")"
   ],
   "metadata": {},
   "execution_count": null
  },
  {
   "cell_type": "markdown",
   "source": [
    "## Example 2"
   ],
   "metadata": {}
  },
  {
   "cell_type": "markdown",
   "source": [
    "This script is a slight modification of Example 1 to present to the user the possibility of creating new `RheoModelClass` from an existing one with some of the parameters frozen to specific values. As an example, we fix the spring constant of the model above (k) to 2 and we let RHEOS fit the viscosity η."
   ],
   "metadata": {}
  },
  {
   "outputs": [],
   "cell_type": "code",
   "source": [
    "Maxwell_springFix = freeze_params(Maxwell, k = 2)"
   ],
   "metadata": {},
   "execution_count": null
  },
  {
   "outputs": [],
   "cell_type": "code",
   "source": [
    "maxwellD_model = modelfit(data, Maxwell_springFix, strain_imposed)\n",
    "maxwellD_predict = onlystrain(data)\n",
    "# and calculate the stress based on the model\n",
    "maxwellD_predict = modelpredict(maxwellD_predict, maxwellD_model)\n",
    "# Now we can plot data and model together for comparison\n",
    "\n",
    "# Plot data\n",
    "fig, ax = subplots(1, 1, figsize = (7, 5))\n",
    "ax.plot(data.t, data.σ, \".\", color = \"green\")\n",
    "ax.plot(maxwellD_predict.t, maxwellD_predict.σ, color = \"red\")\n",
    "ax.set_xlabel(\"Time\")\n",
    "ax.set_ylabel(\"Stress\")"
   ],
   "metadata": {},
   "execution_count": null
  },
  {
   "cell_type": "markdown",
   "source": [
    "## Example 3"
   ],
   "metadata": {}
  },
  {
   "cell_type": "markdown",
   "source": [
    "This script shows how to use RHEOS to explore the behaviour of various models This involves:\n",
    "- Creating a strain function\n",
    "- Defining models based on parameter values\n",
    "PyPlot needs to be installed to run these examples and display plots of the data."
   ],
   "metadata": {}
  },
  {
   "outputs": [],
   "cell_type": "code",
   "source": [
    "# Creates a time only dataset\n",
    "dϵ = timeline(t_end = 10)\n",
    "# calculates strain data by applying a function of time\n",
    "dϵ = strainfunction(dϵ, t -> sin(t))\n",
    "\n",
    "# Plot strain data\n",
    "fig, ax = subplots(1, 1, figsize = (7, 5))\n",
    "ax.plot(dϵ.t, dϵ.ϵ, \"--b\")\n",
    "\n",
    "# we can now simulate various models based on this strain only dataset\n",
    "# Let's study the role of the dashpot strength in the MAxwell model\n",
    "for η in [0.1, 0.3, 1, 3, 10]\n",
    "    maxwell_model = RheoModel(Maxwell, k = 2., η = η)\n",
    "    d_maxwell = modelpredict(dϵ, maxwell_model)\n",
    "    ax.plot(d_maxwell.t, d_maxwell.σ)\n",
    "end\n",
    "ax.set_xlabel(\"Time\")\n",
    "ax.set_ylabel(\"Stress\")\n",
    "ax.grid(\"on\")"
   ],
   "metadata": {},
   "execution_count": null
  },
  {
   "cell_type": "markdown",
   "source": [
    "## Example 4"
   ],
   "metadata": {}
  },
  {
   "cell_type": "markdown",
   "source": [
    "This example demonstrates generating a timeline and stress data, fitting multiple models to the data,\n",
    "calling the `extractfitdata` function, listing the errors, and determining which model fits the best."
   ],
   "metadata": {}
  },
  {
   "cell_type": "markdown",
   "source": [
    "Generate Timeline"
   ],
   "metadata": {}
  },
  {
   "outputs": [],
   "cell_type": "code",
   "source": [
    "datat = timeline(t_start = 0, t_end = 20.0, step = 0.02)  # Create a timeline from 0 to 20 seconds with a step size of 0.02 seconds"
   ],
   "metadata": {},
   "execution_count": null
  },
  {
   "cell_type": "markdown",
   "source": [
    "Generate Stress Data (Ramp & hold)"
   ],
   "metadata": {}
  },
  {
   "outputs": [],
   "cell_type": "code",
   "source": [
    "dramp_stress = stressfunction(datat, ramp(offset = 4.0, gradient = 0.8))  # Generate a ramp stress function with offset 4.0 and gradient 0.8\n",
    "dhold_stress = dramp_stress - stressfunction(datat, ramp(offset = 5.0, gradient = 0.8))  # Generate a hold stress function by subtracting a shifted ramp"
   ],
   "metadata": {},
   "execution_count": null
  },
  {
   "cell_type": "markdown",
   "source": [
    "Define the rheological model and predict"
   ],
   "metadata": {}
  },
  {
   "outputs": [],
   "cell_type": "code",
   "source": [
    "model = RheoModel(SLS_Zener, (η = 1, kᵦ = 1, kᵧ = 1))\n",
    "data = modelpredict(dhold_stress, model)"
   ],
   "metadata": {},
   "execution_count": null
  },
  {
   "cell_type": "markdown",
   "source": [
    "Fit three models to the data"
   ],
   "metadata": {}
  },
  {
   "outputs": [],
   "cell_type": "code",
   "source": [
    "SLS_Zener_model = modelfit(data, SLS_Zener, stress_imposed)\n",
    "Maxwell_model = modelfit(data, Maxwell, stress_imposed)\n",
    "BurgersLiquid_model = modelfit(data, BurgersLiquid, stress_imposed)"
   ],
   "metadata": {},
   "execution_count": null
  },
  {
   "cell_type": "markdown",
   "source": [
    "Call the extractfitdata function to extract fitting data"
   ],
   "metadata": {}
  },
  {
   "outputs": [],
   "cell_type": "code",
   "source": [
    "extracted_data = extractfitdata(data)"
   ],
   "metadata": {},
   "execution_count": null
  },
  {
   "cell_type": "markdown",
   "source": [
    "Determine which model fits best by comparing errors"
   ],
   "metadata": {}
  },
  {
   "outputs": [],
   "cell_type": "code",
   "source": [
    "best_model = \"\"\n",
    "error = Inf\n",
    "\n",
    "for (model_name, fitdata) in extracted_data\n",
    "    error = fitdata.info.error\n",
    "\n",
    "    println(\"Model: $model_name, Total Error: $error\")\n",
    "\n",
    "    if error < min_error\n",
    "        min_error = error\n",
    "        best_model = model_name\n",
    "    end\n",
    "end\n",
    "\n",
    "println(\"Best fitting model: $best_model with total error: $min_error\")"
   ],
   "metadata": {},
   "execution_count": null
  },
  {
   "cell_type": "markdown",
   "source": [
    "Create strain-only data for model predictions"
   ],
   "metadata": {}
  },
  {
   "outputs": [],
   "cell_type": "code",
   "source": [
    "stress_only_data = onlystress(data)"
   ],
   "metadata": {},
   "execution_count": null
  },
  {
   "cell_type": "markdown",
   "source": [
    "Get model predictions for plotting"
   ],
   "metadata": {}
  },
  {
   "outputs": [],
   "cell_type": "code",
   "source": [
    "SLS_Zener_predict = modelpredict(stress_only_data, SLS_Zener_model)\n",
    "Maxwell_predict = modelpredict(stress_only_data, Maxwell_model)\n",
    "BurgersLiquid_predict = modelpredict(stress_only_data, BurgersLiquid_model)"
   ],
   "metadata": {},
   "execution_count": null
  },
  {
   "cell_type": "markdown",
   "source": [
    "Plot data and fitted models"
   ],
   "metadata": {}
  },
  {
   "outputs": [],
   "cell_type": "code",
   "source": [
    "fig, ax = subplots(1, 1, figsize = (7, 5))\n",
    "ax.plot(data.t, data.ϵ, \".\", color = \"green\", label = \"Original Data\")\n",
    "ax.plot(SLS_Zener_predict.t, SLS_Zener_predict.ϵ, \"-\", color = \"red\", label = \"SLS_Zener Model\")\n",
    "ax.plot(Maxwell_predict.t, Maxwell_predict.ϵ, \"--\", color = \"blue\", label = \"Maxwell Model\")\n",
    "ax.plot(BurgersLiquid_predict.t, BurgersLiquid_predict.ϵ, \":\", color = \"purple\", label = \"BurgersLiquid Model\")\n",
    "ax.set_xlabel(\"Time\")\n",
    "ax.set_ylabel(\"Strain\")\n",
    "ax.legend()\n",
    "ax.grid(\"on\")"
   ],
   "metadata": {},
   "execution_count": null
  },
  {
   "cell_type": "markdown",
   "source": [
    "---\n",
    "\n",
    "*This notebook was generated using [Literate.jl](https://github.com/fredrikekre/Literate.jl).*"
   ],
   "metadata": {}
  }
 ],
 "nbformat_minor": 3,
 "metadata": {
  "language_info": {
   "file_extension": ".jl",
   "mimetype": "application/julia",
   "name": "julia",
   "version": "1.10.4"
  },
  "kernelspec": {
   "name": "julia-1.10",
   "display_name": "Julia 1.10.4",
   "language": "julia"
  }
 },
 "nbformat": 4
}
