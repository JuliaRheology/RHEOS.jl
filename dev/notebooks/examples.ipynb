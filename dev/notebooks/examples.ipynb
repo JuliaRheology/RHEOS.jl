{
 "cells": [
  {
   "cell_type": "markdown",
   "source": [
    "# Additional Examples"
   ],
   "metadata": {}
  },
  {
   "outputs": [],
   "cell_type": "code",
   "source": [
    "using RHEOS"
   ],
   "metadata": {},
   "execution_count": 1
  },
  {
   "cell_type": "markdown",
   "source": [
    "[PyPlot](https://github.com/JuliaPy/PyPlot.jl) needs to be installed to run these examples and display plots of the data."
   ],
   "metadata": {}
  },
  {
   "outputs": [
    {
     "name": "stdout",
     "output_type": "stream",
     "text": [
      "┌ Info: Installing matplotlib via the Conda matplotlib package...\n",
      "└ @ PyCall /home/runner/.julia/packages/PyCall/BcTLp/src/PyCall.jl:708\n",
      "┌ Info: Running `conda install -q -y matplotlib` in root environment\n",
      "└ @ Conda /home/runner/.julia/packages/Conda/x5ml4/src/Conda.jl:115\n",
      "Collecting package metadata (current_repodata.json): ...working... done\n",
      "Solving environment: ...working... done\n",
      "\n",
      "## Package Plan ##\n",
      "\n",
      "  environment location: /home/runner/.julia/conda/3\n",
      "\n",
      "  added / updated specs:\n",
      "    - matplotlib\n",
      "\n",
      "\n",
      "The following packages will be downloaded:\n",
      "\n",
      "    package                    |            build\n",
      "    ---------------------------|-----------------\n",
      "    cycler-0.10.0              |           py38_0          14 KB\n",
      "    dbus-1.13.18               |       hb2f20db_0         504 KB\n",
      "    expat-2.2.10               |       he6710b0_2         153 KB\n",
      "    fontconfig-2.13.0          |       h9420a91_0         227 KB\n",
      "    freetype-2.10.4            |       h5ab3b9f_0         596 KB\n",
      "    glib-2.66.1                |       h92f7085_0         2.9 MB\n",
      "    gst-plugins-base-1.14.0    |       h8213a91_2         4.9 MB\n",
      "    gstreamer-1.14.0           |       h28cd5cc_2         3.2 MB\n",
      "    icu-58.2                   |       he6710b0_3        10.5 MB\n",
      "    jpeg-9b                    |       h024ee3a_2         214 KB\n",
      "    kiwisolver-1.3.0           |   py38h2531618_0          80 KB\n",
      "    lcms2-2.11                 |       h396b838_0         307 KB\n",
      "    libpng-1.6.37              |       hbc83047_0         278 KB\n",
      "    libtiff-4.1.0              |       h2733197_1         449 KB\n",
      "    libuuid-1.0.3              |       h1bed415_2          15 KB\n",
      "    libxcb-1.14                |       h7b6447c_0         505 KB\n",
      "    libxml2-2.9.10             |       hb55368b_3         1.2 MB\n",
      "    lz4-c-1.9.2                |       heb0550a_3         175 KB\n",
      "    matplotlib-3.3.2           |       h06a4308_0          24 KB\n",
      "    matplotlib-base-3.3.2      |   py38h817c723_0         5.1 MB\n",
      "    olefile-0.46               |             py_0          33 KB\n",
      "    pcre-8.44                  |       he6710b0_0         212 KB\n",
      "    pillow-8.1.0               |   py38he98fc37_0         626 KB\n",
      "    pyparsing-2.4.7            |             py_0          65 KB\n",
      "    pyqt-5.9.2                 |   py38h05f1152_4         4.5 MB\n",
      "    python-dateutil-2.8.1      |             py_0         215 KB\n",
      "    qt-5.9.7                   |       h5867ecd_1        68.5 MB\n",
      "    sip-4.19.13                |   py38he6710b0_0         277 KB\n",
      "    tornado-6.1                |   py38h27cfd23_0         588 KB\n",
      "    zstd-1.4.5                 |       h9ceee32_0         619 KB\n",
      "    ------------------------------------------------------------\n",
      "                                           Total:       106.9 MB\n",
      "\n",
      "The following NEW packages will be INSTALLED:\n",
      "\n",
      "  cycler             pkgs/main/linux-64::cycler-0.10.0-py38_0\n",
      "  dbus               pkgs/main/linux-64::dbus-1.13.18-hb2f20db_0\n",
      "  expat              pkgs/main/linux-64::expat-2.2.10-he6710b0_2\n",
      "  fontconfig         pkgs/main/linux-64::fontconfig-2.13.0-h9420a91_0\n",
      "  freetype           pkgs/main/linux-64::freetype-2.10.4-h5ab3b9f_0\n",
      "  glib               pkgs/main/linux-64::glib-2.66.1-h92f7085_0\n",
      "  gst-plugins-base   pkgs/main/linux-64::gst-plugins-base-1.14.0-h8213a91_2\n",
      "  gstreamer          pkgs/main/linux-64::gstreamer-1.14.0-h28cd5cc_2\n",
      "  icu                pkgs/main/linux-64::icu-58.2-he6710b0_3\n",
      "  jpeg               pkgs/main/linux-64::jpeg-9b-h024ee3a_2\n",
      "  kiwisolver         pkgs/main/linux-64::kiwisolver-1.3.0-py38h2531618_0\n",
      "  lcms2              pkgs/main/linux-64::lcms2-2.11-h396b838_0\n",
      "  libpng             pkgs/main/linux-64::libpng-1.6.37-hbc83047_0\n",
      "  libtiff            pkgs/main/linux-64::libtiff-4.1.0-h2733197_1\n",
      "  libuuid            pkgs/main/linux-64::libuuid-1.0.3-h1bed415_2\n",
      "  libxcb             pkgs/main/linux-64::libxcb-1.14-h7b6447c_0\n",
      "  libxml2            pkgs/main/linux-64::libxml2-2.9.10-hb55368b_3\n",
      "  lz4-c              pkgs/main/linux-64::lz4-c-1.9.2-heb0550a_3\n",
      "  matplotlib         pkgs/main/linux-64::matplotlib-3.3.2-h06a4308_0\n",
      "  matplotlib-base    pkgs/main/linux-64::matplotlib-base-3.3.2-py38h817c723_0\n",
      "  olefile            pkgs/main/noarch::olefile-0.46-py_0\n",
      "  pcre               pkgs/main/linux-64::pcre-8.44-he6710b0_0\n",
      "  pillow             pkgs/main/linux-64::pillow-8.1.0-py38he98fc37_0\n",
      "  pyparsing          pkgs/main/noarch::pyparsing-2.4.7-py_0\n",
      "  pyqt               pkgs/main/linux-64::pyqt-5.9.2-py38h05f1152_4\n",
      "  python-dateutil    pkgs/main/noarch::python-dateutil-2.8.1-py_0\n",
      "  qt                 pkgs/main/linux-64::qt-5.9.7-h5867ecd_1\n",
      "  sip                pkgs/main/linux-64::sip-4.19.13-py38he6710b0_0\n",
      "  tornado            pkgs/main/linux-64::tornado-6.1-py38h27cfd23_0\n",
      "  zstd               pkgs/main/linux-64::zstd-1.4.5-h9ceee32_0\n",
      "\n",
      "\n",
      "Preparing transaction: ...working... done\n",
      "Verifying transaction: ...working... done\n",
      "Executing transaction: ...working... done\n"
     ]
    }
   ],
   "cell_type": "code",
   "source": [
    "using PyPlot"
   ],
   "metadata": {},
   "execution_count": 2
  },
  {
   "cell_type": "markdown",
   "source": [
    "## Example 1"
   ],
   "metadata": {}
  },
  {
   "cell_type": "markdown",
   "source": [
    "- Loading experimental data from a .csv file\n",
    "- Fitting a model\n",
    "- Compare original data with fitted model prediction"
   ],
   "metadata": {}
  },
  {
   "outputs": [
    {
     "output_type": "execute_result",
     "data": {
      "text/plain": "PyObject Text(0.5, 0, 'Time')"
     },
     "metadata": {},
     "execution_count": 3
    }
   ],
   "cell_type": "code",
   "source": [
    "# Make sure the examples folder is the current directory\n",
    "# check by typing \"pwd()\"\n",
    "\n",
    "# Import data\n",
    "data = importcsv(\"assets/example1_data.csv\", t_col = 1, ϵ_col = 2, σ_col = 3)\n",
    "\n",
    "# Plot data\n",
    "fig, ax = subplots(1, 1, figsize = (7, 5))\n",
    "ax.plot(data.t, data.σ, \".\", color = \"green\")\n",
    "ax.plot(data.t, data.ϵ, \"-\", color = \"blue\")\n",
    "ax.set_ylabel(\"Strain (blue), Stress (green)\")\n",
    "ax.set_xlabel(\"Time\")"
   ],
   "metadata": {},
   "execution_count": 3
  },
  {
   "outputs": [
    {
     "name": "stdout",
     "output_type": "stream",
     "text": [
      "┌ Warning: Initial values for model parameters are set to [0.5, 0.5] by default\n",
      "└ @ RHEOS /home/runner/work/RHEOS.jl/RHEOS.jl/src/processing.jl:305\n",
      "Time: 4.234556418 s, Why: XTOL_REACHED, Parameters: [4.0054017305374146, 2.003000020980835], Error: 0.022310985023643978\n"
     ]
    },
    {
     "output_type": "execute_result",
     "data": {
      "text/plain": "\nModel: maxwell\n\nParameter values: (η = 4.0054017305374146, k = 2.003000020980835) \n\n                ___\n            _____| |________╱╲  ╱╲  ╱╲  ___\n                _|_|          ╲╱  ╲╱  ╲╱\n                  η                  k\n               "
     },
     "metadata": {},
     "execution_count": 4
    }
   ],
   "cell_type": "code",
   "source": [
    "# We now fit a Maxwell model\n",
    "maxwell_model = modelfit(data, Maxwell, strain_imposed)"
   ],
   "metadata": {},
   "execution_count": 4
  },
  {
   "cell_type": "markdown",
   "source": [
    "Note that the fitting function requires guidance regarding the type of testing used. It helps optimise the fitting process."
   ],
   "metadata": {}
  },
  {
   "cell_type": "markdown",
   "source": [
    "The data in this example is the stress response to a strain ramp followed by plateau. It therefore corresponds to a strain imposed process."
   ],
   "metadata": {}
  },
  {
   "cell_type": "markdown",
   "source": [
    "We now want to calculate the stress values predicted by the model given the experimental strain data. Let's create a new data set with the strain profile."
   ],
   "metadata": {}
  },
  {
   "outputs": [
    {
     "output_type": "execute_result",
     "data": {
      "text/plain": "PyObject Text(0, 0.5, 'Stress')"
     },
     "metadata": {},
     "execution_count": 5
    }
   ],
   "cell_type": "code",
   "source": [
    "maxwell_predict = extract(data, strain_only)\n",
    "# and calculate the stress based on the model\n",
    "maxwell_predict = modelpredict(maxwell_predict, maxwell_model)\n",
    "# Now we can plot data and model together for comparison\n",
    "\n",
    "# Plot data\n",
    "fig, ax = subplots(1, 1, figsize = (7, 5))\n",
    "ax.plot(data.t, data.σ, \".\", color = \"green\")\n",
    "ax.plot(maxwell_predict.t, maxwell_predict.σ, color = \"red\")\n",
    "ax.set_xlabel(\"Time\")\n",
    "ax.set_ylabel(\"Stress\")"
   ],
   "metadata": {},
   "execution_count": 5
  },
  {
   "cell_type": "markdown",
   "source": [
    "## Example 2"
   ],
   "metadata": {}
  },
  {
   "cell_type": "markdown",
   "source": [
    "This script is a slight modification of Example 1 to present to the user the possibility of creating new `RheoModelClass` from an existing one with some of the parameters frozen to specific values. As an example, we fix the spring constant of the model above (k) to 2 and we let RHEOS fit the viscosity η."
   ],
   "metadata": {}
  },
  {
   "outputs": [
    {
     "output_type": "execute_result",
     "data": {
      "text/plain": "\nModel name: maxwell with set parameters: (k = 2.0,)\n\nFree parameters: η\n\n                ___\n            _____| |________╱╲  ╱╲  ╱╲  ___\n                _|_|          ╲╱  ╲╱  ╲╱\n                  η                  k\n               "
     },
     "metadata": {},
     "execution_count": 6
    }
   ],
   "cell_type": "code",
   "source": [
    "Maxwell_springFix = freeze_params(Maxwell, (k = 2, ))"
   ],
   "metadata": {},
   "execution_count": 6
  },
  {
   "outputs": [
    {
     "name": "stdout",
     "output_type": "stream",
     "text": [
      "┌ Warning: Initial values for model parameters are set to [0.5] by default\n",
      "└ @ RHEOS /home/runner/work/RHEOS.jl/RHEOS.jl/src/processing.jl:305\n",
      "Time: 0.004248553 s, Why: XTOL_REACHED, Parameters: [4.00555419921875], Error: 0.02241266926191038\n"
     ]
    },
    {
     "output_type": "execute_result",
     "data": {
      "text/plain": "PyObject Text(0, 0.5, 'Stress')"
     },
     "metadata": {},
     "execution_count": 7
    }
   ],
   "cell_type": "code",
   "source": [
    "maxwellD_model = modelfit(data, Maxwell_springFix, strain_imposed)\n",
    "maxwellD_predict = extract(data, strain_only)\n",
    "# and calculate the stress based on the model\n",
    "maxwellD_predict = modelpredict(maxwellD_predict, maxwellD_model)\n",
    "# Now we can plot data and model together for comparison\n",
    "\n",
    "# Plot data\n",
    "fig, ax = subplots(1, 1, figsize = (7, 5))\n",
    "ax.plot(data.t, data.σ, \".\", color = \"green\")\n",
    "ax.plot(maxwellD_predict.t, maxwellD_predict.σ, color = \"red\")\n",
    "ax.set_xlabel(\"Time\")\n",
    "ax.set_ylabel(\"Stress\")"
   ],
   "metadata": {},
   "execution_count": 7
  },
  {
   "cell_type": "markdown",
   "source": [
    "## Example 3"
   ],
   "metadata": {}
  },
  {
   "cell_type": "markdown",
   "source": [
    "This script shows how to use RHEOS to explore the behaviour of various models This involves:\n",
    "- Creating a strain function\n",
    "- Defining models based on parameter values\n",
    "PyPlot needs to be installed to run these examples and display plots of the data."
   ],
   "metadata": {}
  },
  {
   "outputs": [
    {
     "name": "stdout",
     "output_type": "stream",
     "text": [
      "┌ Warning: Assignment to `maxwell_model` in soft scope is ambiguous because a global variable by the same name exists: `maxwell_model` will be treated as a new local. Disambiguate by using `local maxwell_model` to suppress this warning or `global maxwell_model` to assign to the existing global variable.\n",
      "└ @ nothing string:13\n"
     ]
    }
   ],
   "cell_type": "code",
   "source": [
    "# Creates a time only dataset\n",
    "dϵ = timeline(t_end = 10)\n",
    "# calculates strain data by applying a function of time\n",
    "dϵ = strainfunction(dϵ, t -> sin(t))\n",
    "\n",
    "# Plot strain data\n",
    "fig, ax = subplots(1, 1, figsize = (7, 5))\n",
    "ax.plot(dϵ.t, dϵ.ϵ, \"--b\")\n",
    "\n",
    "# we can now simulate various models based on this strain only dataset\n",
    "# Let's study the role of the dashpot strength in the MAxwell model\n",
    "for η in [0.1, 0.3, 1, 3, 10]\n",
    "    maxwell_model = RheoModel(Maxwell, k = 2., η = η)\n",
    "    d_maxwell = modelpredict(dϵ, maxwell_model)\n",
    "    ax.plot(d_maxwell.t, d_maxwell.σ)\n",
    "end\n",
    "ax.set_xlabel(\"Time\")\n",
    "ax.set_ylabel(\"Stress\")\n",
    "ax.grid(\"on\")"
   ],
   "metadata": {},
   "execution_count": 8
  },
  {
   "cell_type": "markdown",
   "source": [
    "---\n",
    "\n",
    "*This notebook was generated using [Literate.jl](https://github.com/fredrikekre/Literate.jl).*"
   ],
   "metadata": {}
  }
 ],
 "nbformat_minor": 3,
 "metadata": {
  "language_info": {
   "file_extension": ".jl",
   "mimetype": "application/julia",
   "name": "julia",
   "version": "1.5.3"
  },
  "kernelspec": {
   "name": "julia-1.5",
   "display_name": "Julia 1.5.3",
   "language": "julia"
  }
 },
 "nbformat": 4
}
