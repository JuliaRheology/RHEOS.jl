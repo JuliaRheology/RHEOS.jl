{
 "cells": [
  {
   "cell_type": "markdown",
   "source": [
    "# Additional Examples"
   ],
   "metadata": {}
  },
  {
   "outputs": [],
   "cell_type": "code",
   "source": [
    "using RHEOS"
   ],
   "metadata": {},
   "execution_count": 1
  },
  {
   "cell_type": "markdown",
   "source": [
    "[PyPlot](https://github.com/JuliaPy/PyPlot.jl) needs to be installed to run these examples and display plots of the data."
   ],
   "metadata": {}
  },
  {
   "outputs": [
    {
     "name": "stdout",
     "output_type": "stream",
     "text": [
      "[ Info: Installing matplotlib via the Conda matplotlib package...\n",
      "[ Info: Running `conda install -q -y matplotlib` in root environment\n",
      "Collecting package metadata (current_repodata.json): ...working... done\n",
      "Solving environment: ...working... done\n",
      "\n",
      "## Package Plan ##\n",
      "\n",
      "  environment location: /home/runner/.julia/conda/3\n",
      "\n",
      "  added / updated specs:\n",
      "    - matplotlib\n",
      "\n",
      "\n",
      "The following packages will be downloaded:\n",
      "\n",
      "    package                    |            build\n",
      "    ---------------------------|-----------------\n",
      "    alsa-lib-1.2.8             |       h166bdaf_0         578 KB  conda-forge\n",
      "    attr-2.5.1                 |       h166bdaf_1          69 KB  conda-forge\n",
      "    brotli-1.0.9               |       h166bdaf_8          18 KB  conda-forge\n",
      "    brotli-bin-1.0.9           |       h166bdaf_8          20 KB  conda-forge\n",
      "    contourpy-1.0.6            |  py310hbf28c38_0         234 KB  conda-forge\n",
      "    cycler-0.11.0              |     pyhd8ed1ab_0          10 KB  conda-forge\n",
      "    dbus-1.13.6                |       h5008d03_3         604 KB  conda-forge\n",
      "    expat-2.5.0                |       h27087fc_0         189 KB  conda-forge\n",
      "    fftw-3.3.10                |nompi_hf0379b8_106         2.1 MB  conda-forge\n",
      "    font-ttf-dejavu-sans-mono-2.37|       hab24e00_0         388 KB  conda-forge\n",
      "    font-ttf-inconsolata-3.000 |       h77eed37_0          94 KB  conda-forge\n",
      "    font-ttf-source-code-pro-2.038|       h77eed37_0         684 KB  conda-forge\n",
      "    font-ttf-ubuntu-0.83       |       hab24e00_0         1.9 MB  conda-forge\n",
      "    fontconfig-2.14.1          |       hc2a2eb6_0         365 KB  conda-forge\n",
      "    fonts-conda-ecosystem-1    |                0           4 KB  conda-forge\n",
      "    fonts-conda-forge-1        |                0           4 KB  conda-forge\n",
      "    fonttools-4.38.0           |  py310h5764c6d_1         1.9 MB  conda-forge\n",
      "    freetype-2.12.1            |       hca18f0e_1         611 KB  conda-forge\n",
      "    gettext-0.21.1             |       h27087fc_0         4.1 MB  conda-forge\n",
      "    glib-2.74.1                |       h6239696_1         474 KB  conda-forge\n",
      "    glib-tools-2.74.1          |       h6239696_1         107 KB  conda-forge\n",
      "    gst-plugins-base-1.21.3    |       h4243ec0_1         2.6 MB  conda-forge\n",
      "    gstreamer-1.21.3           |       h25f0c4b_1         1.9 MB  conda-forge\n",
      "    gstreamer-orc-0.4.33       |       h166bdaf_0         299 KB  conda-forge\n",
      "    icu-70.1                   |       h27087fc_0        13.5 MB  conda-forge\n",
      "    jack-1.9.21                |       h583fa2b_2         450 KB  conda-forge\n",
      "    jpeg-9e                    |       h166bdaf_2         269 KB  conda-forge\n",
      "    keyutils-1.6.1             |       h166bdaf_0         115 KB  conda-forge\n",
      "    kiwisolver-1.4.4           |  py310hbf28c38_1          76 KB  conda-forge\n",
      "    krb5-1.20.1                |       h81ceb04_0         1.3 MB  conda-forge\n",
      "    lame-3.100                 |    h166bdaf_1003         496 KB  conda-forge\n",
      "    lcms2-2.14                 |       hfd0df8a_1         235 KB  conda-forge\n",
      "    lerc-4.0.0                 |       h27087fc_0         275 KB  conda-forge\n",
      "    libbrotlicommon-1.0.9      |       h166bdaf_8          66 KB  conda-forge\n",
      "    libbrotlidec-1.0.9         |       h166bdaf_8          33 KB  conda-forge\n",
      "    libbrotlienc-1.0.9         |       h166bdaf_8         288 KB  conda-forge\n",
      "    libcap-2.66                |       ha37c62d_0          97 KB  conda-forge\n",
      "    libclang-15.0.6            |default_h2e3cab8_0         129 KB  conda-forge\n",
      "    libclang13-15.0.6          |default_h3a83d3e_0         9.0 MB  conda-forge\n",
      "    libcups-2.3.3              |       h36d4200_3         4.3 MB  conda-forge\n",
      "    libdb-6.2.32               |       h9c3ff4c_0        23.3 MB  conda-forge\n",
      "    libdeflate-1.14            |       h166bdaf_0          81 KB  conda-forge\n",
      "    libedit-3.1.20191231       |       he28a2e2_2         121 KB  conda-forge\n",
      "    libevent-2.1.10            |       h28343ad_4         1.1 MB  conda-forge\n",
      "    libflac-1.4.2              |       h27087fc_0         411 KB  conda-forge\n",
      "    libgcrypt-1.10.1           |       h166bdaf_0         703 KB  conda-forge\n",
      "    libglib-2.74.1             |       h606061b_1         3.1 MB  conda-forge\n",
      "    libgpg-error-1.46          |       h620e276_0         252 KB  conda-forge\n",
      "    libiconv-1.17              |       h166bdaf_0         1.4 MB  conda-forge\n",
      "    libjpeg-turbo-2.1.4        |       h166bdaf_0         988 KB  conda-forge\n",
      "    libllvm15-15.0.6           |       h63197d8_0        30.5 MB  conda-forge\n",
      "    libogg-1.3.4               |       h7f98852_1         206 KB  conda-forge\n",
      "    libopus-1.3.1              |       h7f98852_1         255 KB  conda-forge\n",
      "    libpng-1.6.39              |       h753d276_0         276 KB  conda-forge\n",
      "    libpq-15.1                 |       hb675445_2         2.4 MB  conda-forge\n",
      "    libsndfile-1.1.0           |       hcb278e6_1         341 KB  conda-forge\n",
      "    libsystemd0-252            |       h2a991cd_0         384 KB  conda-forge\n",
      "    libtiff-4.5.0              |       h82bc61c_0         398 KB  conda-forge\n",
      "    libtool-2.4.7              |       h27087fc_0         402 KB  conda-forge\n",
      "    libudev1-252               |       h166bdaf_0         118 KB  conda-forge\n",
      "    libvorbis-1.3.7            |       h9c3ff4c_0         280 KB  conda-forge\n",
      "    libwebp-base-1.2.4         |       h166bdaf_0         404 KB  conda-forge\n",
      "    libxcb-1.13                |    h7f98852_1004         391 KB  conda-forge\n",
      "    libxkbcommon-1.0.3         |       he3ba5ed_0         581 KB  conda-forge\n",
      "    libxml2-2.10.3             |       h7463322_0         754 KB  conda-forge\n",
      "    lz4-c-1.9.3                |       h9c3ff4c_1         179 KB  conda-forge\n",
      "    matplotlib-3.6.2           |  py310hff52083_0           7 KB  conda-forge\n",
      "    matplotlib-base-3.6.2      |  py310h8d5ebf3_0         7.6 MB  conda-forge\n",
      "    mpg123-1.31.1              |       h27087fc_0         522 KB  conda-forge\n",
      "    munkres-1.1.4              |     pyh9f0ad1d_0          12 KB  conda-forge\n",
      "    mysql-common-8.0.31        |       h26416b9_0         1.9 MB  conda-forge\n",
      "    mysql-libs-8.0.31          |       hbc51c84_0         1.9 MB  conda-forge\n",
      "    nspr-4.35                  |       h27087fc_0         222 KB  conda-forge\n",
      "    nss-3.82                   |       he02c5a1_0         1.9 MB  conda-forge\n",
      "    openjpeg-2.5.0             |       hfec8fc6_2         344 KB  conda-forge\n",
      "    packaging-22.0             |     pyhd8ed1ab_0          40 KB  conda-forge\n",
      "    pcre2-10.40                |       hc3806b6_0         2.3 MB  conda-forge\n",
      "    pillow-9.4.0               |  py310h4927cde_0        44.1 MB  conda-forge\n",
      "    ply-3.11                   |             py_1          44 KB  conda-forge\n",
      "    pthread-stubs-0.4          |    h36c2ea0_1001           5 KB  conda-forge\n",
      "    pulseaudio-16.1            |       h126f2b6_0         1.7 MB  conda-forge\n",
      "    pyparsing-3.0.9            |     pyhd8ed1ab_0          79 KB  conda-forge\n",
      "    pyqt-5.15.7                |  py310h29803b5_2         6.2 MB  conda-forge\n",
      "    pyqt5-sip-12.11.0          |  py310hd8f1fbe_2          86 KB  conda-forge\n",
      "    python-dateutil-2.8.2      |     pyhd8ed1ab_0         240 KB  conda-forge\n",
      "    qt-main-5.15.6             |       hf6cd601_5        52.3 MB  conda-forge\n",
      "    sip-6.7.5                  |  py310hd8f1fbe_0         467 KB  conda-forge\n",
      "    six-1.16.0                 |     pyh6c4a22f_0          14 KB  conda-forge\n",
      "    toml-0.10.2                |     pyhd8ed1ab_0          18 KB  conda-forge\n",
      "    tornado-6.2                |  py310h5764c6d_1         662 KB  conda-forge\n",
      "    unicodedata2-15.0.0        |  py310h5764c6d_0         500 KB  conda-forge\n",
      "    xcb-util-0.4.0             |       h166bdaf_0          20 KB  conda-forge\n",
      "    xcb-util-image-0.4.0       |       h166bdaf_0          24 KB  conda-forge\n",
      "    xcb-util-keysyms-0.4.0     |       h166bdaf_0          12 KB  conda-forge\n",
      "    xcb-util-renderutil-0.3.9  |       h166bdaf_0          15 KB  conda-forge\n",
      "    xcb-util-wm-0.4.1          |       h166bdaf_0          55 KB  conda-forge\n",
      "    xorg-libxau-1.0.9          |       h7f98852_0          13 KB  conda-forge\n",
      "    xorg-libxdmcp-1.1.3        |       h7f98852_0          19 KB  conda-forge\n",
      "    zstd-1.5.2                 |       h6239696_4         448 KB  conda-forge\n",
      "    ------------------------------------------------------------\n",
      "                                           Total:       242.6 MB\n",
      "\n",
      "The following NEW packages will be INSTALLED:\n",
      "\n",
      "  alsa-lib           conda-forge/linux-64::alsa-lib-1.2.8-h166bdaf_0 \n",
      "  attr               conda-forge/linux-64::attr-2.5.1-h166bdaf_1 \n",
      "  brotli             conda-forge/linux-64::brotli-1.0.9-h166bdaf_8 \n",
      "  brotli-bin         conda-forge/linux-64::brotli-bin-1.0.9-h166bdaf_8 \n",
      "  contourpy          conda-forge/linux-64::contourpy-1.0.6-py310hbf28c38_0 \n",
      "  cycler             conda-forge/noarch::cycler-0.11.0-pyhd8ed1ab_0 \n",
      "  dbus               conda-forge/linux-64::dbus-1.13.6-h5008d03_3 \n",
      "  expat              conda-forge/linux-64::expat-2.5.0-h27087fc_0 \n",
      "  fftw               conda-forge/linux-64::fftw-3.3.10-nompi_hf0379b8_106 \n",
      "  font-ttf-dejavu-s~ conda-forge/noarch::font-ttf-dejavu-sans-mono-2.37-hab24e00_0 \n",
      "  font-ttf-inconsol~ conda-forge/noarch::font-ttf-inconsolata-3.000-h77eed37_0 \n",
      "  font-ttf-source-c~ conda-forge/noarch::font-ttf-source-code-pro-2.038-h77eed37_0 \n",
      "  font-ttf-ubuntu    conda-forge/noarch::font-ttf-ubuntu-0.83-hab24e00_0 \n",
      "  fontconfig         conda-forge/linux-64::fontconfig-2.14.1-hc2a2eb6_0 \n",
      "  fonts-conda-ecosy~ conda-forge/noarch::fonts-conda-ecosystem-1-0 \n",
      "  fonts-conda-forge  conda-forge/noarch::fonts-conda-forge-1-0 \n",
      "  fonttools          conda-forge/linux-64::fonttools-4.38.0-py310h5764c6d_1 \n",
      "  freetype           conda-forge/linux-64::freetype-2.12.1-hca18f0e_1 \n",
      "  gettext            conda-forge/linux-64::gettext-0.21.1-h27087fc_0 \n",
      "  glib               conda-forge/linux-64::glib-2.74.1-h6239696_1 \n",
      "  glib-tools         conda-forge/linux-64::glib-tools-2.74.1-h6239696_1 \n",
      "  gst-plugins-base   conda-forge/linux-64::gst-plugins-base-1.21.3-h4243ec0_1 \n",
      "  gstreamer          conda-forge/linux-64::gstreamer-1.21.3-h25f0c4b_1 \n",
      "  gstreamer-orc      conda-forge/linux-64::gstreamer-orc-0.4.33-h166bdaf_0 \n",
      "  icu                conda-forge/linux-64::icu-70.1-h27087fc_0 \n",
      "  jack               conda-forge/linux-64::jack-1.9.21-h583fa2b_2 \n",
      "  jpeg               conda-forge/linux-64::jpeg-9e-h166bdaf_2 \n",
      "  keyutils           conda-forge/linux-64::keyutils-1.6.1-h166bdaf_0 \n",
      "  kiwisolver         conda-forge/linux-64::kiwisolver-1.4.4-py310hbf28c38_1 \n",
      "  krb5               conda-forge/linux-64::krb5-1.20.1-h81ceb04_0 \n",
      "  lame               conda-forge/linux-64::lame-3.100-h166bdaf_1003 \n",
      "  lcms2              conda-forge/linux-64::lcms2-2.14-hfd0df8a_1 \n",
      "  lerc               conda-forge/linux-64::lerc-4.0.0-h27087fc_0 \n",
      "  libbrotlicommon    conda-forge/linux-64::libbrotlicommon-1.0.9-h166bdaf_8 \n",
      "  libbrotlidec       conda-forge/linux-64::libbrotlidec-1.0.9-h166bdaf_8 \n",
      "  libbrotlienc       conda-forge/linux-64::libbrotlienc-1.0.9-h166bdaf_8 \n",
      "  libcap             conda-forge/linux-64::libcap-2.66-ha37c62d_0 \n",
      "  libclang           conda-forge/linux-64::libclang-15.0.6-default_h2e3cab8_0 \n",
      "  libclang13         conda-forge/linux-64::libclang13-15.0.6-default_h3a83d3e_0 \n",
      "  libcups            conda-forge/linux-64::libcups-2.3.3-h36d4200_3 \n",
      "  libdb              conda-forge/linux-64::libdb-6.2.32-h9c3ff4c_0 \n",
      "  libdeflate         conda-forge/linux-64::libdeflate-1.14-h166bdaf_0 \n",
      "  libedit            conda-forge/linux-64::libedit-3.1.20191231-he28a2e2_2 \n",
      "  libevent           conda-forge/linux-64::libevent-2.1.10-h28343ad_4 \n",
      "  libflac            conda-forge/linux-64::libflac-1.4.2-h27087fc_0 \n",
      "  libgcrypt          conda-forge/linux-64::libgcrypt-1.10.1-h166bdaf_0 \n",
      "  libglib            conda-forge/linux-64::libglib-2.74.1-h606061b_1 \n",
      "  libgpg-error       conda-forge/linux-64::libgpg-error-1.46-h620e276_0 \n",
      "  libiconv           conda-forge/linux-64::libiconv-1.17-h166bdaf_0 \n",
      "  libjpeg-turbo      conda-forge/linux-64::libjpeg-turbo-2.1.4-h166bdaf_0 \n",
      "  libllvm15          conda-forge/linux-64::libllvm15-15.0.6-h63197d8_0 \n",
      "  libogg             conda-forge/linux-64::libogg-1.3.4-h7f98852_1 \n",
      "  libopus            conda-forge/linux-64::libopus-1.3.1-h7f98852_1 \n",
      "  libpng             conda-forge/linux-64::libpng-1.6.39-h753d276_0 \n",
      "  libpq              conda-forge/linux-64::libpq-15.1-hb675445_2 \n",
      "  libsndfile         conda-forge/linux-64::libsndfile-1.1.0-hcb278e6_1 \n",
      "  libsystemd0        conda-forge/linux-64::libsystemd0-252-h2a991cd_0 \n",
      "  libtiff            conda-forge/linux-64::libtiff-4.5.0-h82bc61c_0 \n",
      "  libtool            conda-forge/linux-64::libtool-2.4.7-h27087fc_0 \n",
      "  libudev1           conda-forge/linux-64::libudev1-252-h166bdaf_0 \n",
      "  libvorbis          conda-forge/linux-64::libvorbis-1.3.7-h9c3ff4c_0 \n",
      "  libwebp-base       conda-forge/linux-64::libwebp-base-1.2.4-h166bdaf_0 \n",
      "  libxcb             conda-forge/linux-64::libxcb-1.13-h7f98852_1004 \n",
      "  libxkbcommon       conda-forge/linux-64::libxkbcommon-1.0.3-he3ba5ed_0 \n",
      "  libxml2            conda-forge/linux-64::libxml2-2.10.3-h7463322_0 \n",
      "  lz4-c              conda-forge/linux-64::lz4-c-1.9.3-h9c3ff4c_1 \n",
      "  matplotlib         conda-forge/linux-64::matplotlib-3.6.2-py310hff52083_0 \n",
      "  matplotlib-base    conda-forge/linux-64::matplotlib-base-3.6.2-py310h8d5ebf3_0 \n",
      "  mpg123             conda-forge/linux-64::mpg123-1.31.1-h27087fc_0 \n",
      "  munkres            conda-forge/noarch::munkres-1.1.4-pyh9f0ad1d_0 \n",
      "  mysql-common       conda-forge/linux-64::mysql-common-8.0.31-h26416b9_0 \n",
      "  mysql-libs         conda-forge/linux-64::mysql-libs-8.0.31-hbc51c84_0 \n",
      "  nspr               conda-forge/linux-64::nspr-4.35-h27087fc_0 \n",
      "  nss                conda-forge/linux-64::nss-3.82-he02c5a1_0 \n",
      "  openjpeg           conda-forge/linux-64::openjpeg-2.5.0-hfec8fc6_2 \n",
      "  packaging          conda-forge/noarch::packaging-22.0-pyhd8ed1ab_0 \n",
      "  pcre2              conda-forge/linux-64::pcre2-10.40-hc3806b6_0 \n",
      "  pillow             conda-forge/linux-64::pillow-9.4.0-py310h4927cde_0 \n",
      "  ply                conda-forge/noarch::ply-3.11-py_1 \n",
      "  pthread-stubs      conda-forge/linux-64::pthread-stubs-0.4-h36c2ea0_1001 \n",
      "  pulseaudio         conda-forge/linux-64::pulseaudio-16.1-h126f2b6_0 \n",
      "  pyparsing          conda-forge/noarch::pyparsing-3.0.9-pyhd8ed1ab_0 \n",
      "  pyqt               conda-forge/linux-64::pyqt-5.15.7-py310h29803b5_2 \n",
      "  pyqt5-sip          conda-forge/linux-64::pyqt5-sip-12.11.0-py310hd8f1fbe_2 \n",
      "  python-dateutil    conda-forge/noarch::python-dateutil-2.8.2-pyhd8ed1ab_0 \n",
      "  qt-main            conda-forge/linux-64::qt-main-5.15.6-hf6cd601_5 \n",
      "  sip                conda-forge/linux-64::sip-6.7.5-py310hd8f1fbe_0 \n",
      "  six                conda-forge/noarch::six-1.16.0-pyh6c4a22f_0 \n",
      "  toml               conda-forge/noarch::toml-0.10.2-pyhd8ed1ab_0 \n",
      "  tornado            conda-forge/linux-64::tornado-6.2-py310h5764c6d_1 \n",
      "  unicodedata2       conda-forge/linux-64::unicodedata2-15.0.0-py310h5764c6d_0 \n",
      "  xcb-util           conda-forge/linux-64::xcb-util-0.4.0-h166bdaf_0 \n",
      "  xcb-util-image     conda-forge/linux-64::xcb-util-image-0.4.0-h166bdaf_0 \n",
      "  xcb-util-keysyms   conda-forge/linux-64::xcb-util-keysyms-0.4.0-h166bdaf_0 \n",
      "  xcb-util-renderut~ conda-forge/linux-64::xcb-util-renderutil-0.3.9-h166bdaf_0 \n",
      "  xcb-util-wm        conda-forge/linux-64::xcb-util-wm-0.4.1-h166bdaf_0 \n",
      "  xorg-libxau        conda-forge/linux-64::xorg-libxau-1.0.9-h7f98852_0 \n",
      "  xorg-libxdmcp      conda-forge/linux-64::xorg-libxdmcp-1.1.3-h7f98852_0 \n",
      "  zstd               conda-forge/linux-64::zstd-1.5.2-h6239696_4 \n",
      "\n",
      "\n",
      "Preparing transaction: ...working... done\n",
      "Verifying transaction: ...working... done\n",
      "Executing transaction: ...working... done\n"
     ]
    }
   ],
   "cell_type": "code",
   "source": [
    "using PyPlot"
   ],
   "metadata": {},
   "execution_count": 2
  },
  {
   "cell_type": "markdown",
   "source": [
    "## Example 1"
   ],
   "metadata": {}
  },
  {
   "cell_type": "markdown",
   "source": [
    "- Loading experimental data from a .csv file\n",
    "- Fitting a model\n",
    "- Compare original data with fitted model prediction"
   ],
   "metadata": {}
  },
  {
   "outputs": [
    {
     "output_type": "execute_result",
     "data": {
      "text/plain": "PyObject Text(0.5, 0, 'Time')"
     },
     "metadata": {},
     "execution_count": 3
    }
   ],
   "cell_type": "code",
   "source": [
    "# Make sure the examples folder is the current directory\n",
    "# check by typing \"pwd()\"\n",
    "\n",
    "# Import data\n",
    "data = importcsv(\"assets/example1_data.csv\", t_col = 1, ϵ_col = 2, σ_col = 3)\n",
    "\n",
    "# Plot data\n",
    "fig, ax = subplots(1, 1, figsize = (7, 5))\n",
    "ax.plot(data.t, data.σ, \".\", color = \"green\")\n",
    "ax.plot(data.t, data.ϵ, \"-\", color = \"blue\")\n",
    "ax.set_ylabel(\"Strain (blue), Stress (green)\")\n",
    "ax.set_xlabel(\"Time\")"
   ],
   "metadata": {},
   "execution_count": 3
  },
  {
   "outputs": [
    {
     "name": "stdout",
     "output_type": "stream",
     "text": [
      "┌ Warning: Initial values for model parameters are set to [0.5, 0.5] by default\n",
      "└ @ RHEOS ~/work/RHEOS.jl/RHEOS.jl/src/processing.jl:340\n",
      "Time: 1.555265051 s, Why: XTOL_REACHED, Parameters: [4.0054017305374146, 2.003000020980835], Error: 0.022310985023644012\n"
     ]
    },
    {
     "output_type": "execute_result",
     "data": {
      "text/plain": "\nModel name: maxwell\n\nFree parameters: \n\n\nFixed parameters: (η = 4.0054017305374146, k = 2.003000020980835)\n\n                ___\n            _____| |________╱╲  ╱╲  ╱╲  ___\n                _|_|          ╲╱  ╲╱  ╲╱\n                  η                  k\n               "
     },
     "metadata": {},
     "execution_count": 4
    }
   ],
   "cell_type": "code",
   "source": [
    "# We now fit a Maxwell model\n",
    "maxwell_model = modelfit(data, Maxwell, strain_imposed)"
   ],
   "metadata": {},
   "execution_count": 4
  },
  {
   "cell_type": "markdown",
   "source": [
    "Note that the fitting function requires guidance regarding the type of testing used. It helps optimise the fitting process."
   ],
   "metadata": {}
  },
  {
   "cell_type": "markdown",
   "source": [
    "The data in this example is the stress response to a strain ramp followed by plateau. It therefore corresponds to a strain imposed process."
   ],
   "metadata": {}
  },
  {
   "cell_type": "markdown",
   "source": [
    "We now want to calculate the stress values predicted by the model given the experimental strain data. Let's create a new data set with the strain profile."
   ],
   "metadata": {}
  },
  {
   "outputs": [
    {
     "output_type": "execute_result",
     "data": {
      "text/plain": "PyObject Text(0, 0.5, 'Stress')"
     },
     "metadata": {},
     "execution_count": 5
    }
   ],
   "cell_type": "code",
   "source": [
    "maxwell_predict = onlystrain(data)\n",
    "# and calculate the stress based on the model\n",
    "maxwell_predict = modelpredict(maxwell_predict, maxwell_model)\n",
    "# Now we can plot data and model together for comparison\n",
    "\n",
    "# Plot data\n",
    "fig, ax = subplots(1, 1, figsize = (7, 5))\n",
    "ax.plot(data.t, data.σ, \".\", color = \"green\")\n",
    "ax.plot(maxwell_predict.t, maxwell_predict.σ, color = \"red\")\n",
    "ax.set_xlabel(\"Time\")\n",
    "ax.set_ylabel(\"Stress\")"
   ],
   "metadata": {},
   "execution_count": 5
  },
  {
   "cell_type": "markdown",
   "source": [
    "## Example 2"
   ],
   "metadata": {}
  },
  {
   "cell_type": "markdown",
   "source": [
    "This script is a slight modification of Example 1 to present to the user the possibility of creating new `RheoModelClass` from an existing one with some of the parameters frozen to specific values. As an example, we fix the spring constant of the model above (k) to 2 and we let RHEOS fit the viscosity η."
   ],
   "metadata": {}
  },
  {
   "outputs": [
    {
     "name": "stdout",
     "output_type": "stream",
     "text": [
      "freeze_params is deprecated - use freezeparams instead.\n"
     ]
    },
    {
     "output_type": "execute_result",
     "data": {
      "text/plain": "\nModel name: maxwell\n\nFree parameters: η\n\n\nFixed parameters: (k = 2.0,)\n\n                ___\n            _____| |________╱╲  ╱╲  ╱╲  ___\n                _|_|          ╲╱  ╲╱  ╲╱\n                  η                  k\n               "
     },
     "metadata": {},
     "execution_count": 6
    }
   ],
   "cell_type": "code",
   "source": [
    "Maxwell_springFix = freeze_params(Maxwell, k = 2)"
   ],
   "metadata": {},
   "execution_count": 6
  },
  {
   "outputs": [
    {
     "name": "stdout",
     "output_type": "stream",
     "text": [
      "┌ Warning: Initial values for model parameters are set to [0.5] by default\n",
      "└ @ RHEOS ~/work/RHEOS.jl/RHEOS.jl/src/processing.jl:340\n",
      "Time: 0.003933322 s, Why: XTOL_REACHED, Parameters: [4.00555419921875], Error: 0.022412669261910354\n"
     ]
    },
    {
     "output_type": "execute_result",
     "data": {
      "text/plain": "PyObject Text(0, 0.5, 'Stress')"
     },
     "metadata": {},
     "execution_count": 7
    }
   ],
   "cell_type": "code",
   "source": [
    "maxwellD_model = modelfit(data, Maxwell_springFix, strain_imposed)\n",
    "maxwellD_predict = onlystrain(data)\n",
    "# and calculate the stress based on the model\n",
    "maxwellD_predict = modelpredict(maxwellD_predict, maxwellD_model)\n",
    "# Now we can plot data and model together for comparison\n",
    "\n",
    "# Plot data\n",
    "fig, ax = subplots(1, 1, figsize = (7, 5))\n",
    "ax.plot(data.t, data.σ, \".\", color = \"green\")\n",
    "ax.plot(maxwellD_predict.t, maxwellD_predict.σ, color = \"red\")\n",
    "ax.set_xlabel(\"Time\")\n",
    "ax.set_ylabel(\"Stress\")"
   ],
   "metadata": {},
   "execution_count": 7
  },
  {
   "cell_type": "markdown",
   "source": [
    "## Example 3"
   ],
   "metadata": {}
  },
  {
   "cell_type": "markdown",
   "source": [
    "This script shows how to use RHEOS to explore the behaviour of various models This involves:\n",
    "- Creating a strain function\n",
    "- Defining models based on parameter values\n",
    "PyPlot needs to be installed to run these examples and display plots of the data."
   ],
   "metadata": {}
  },
  {
   "outputs": [
    {
     "name": "stdout",
     "output_type": "stream",
     "text": [
      "┌ Warning: Assignment to `maxwell_model` in soft scope is ambiguous because a global variable by the same name exists: `maxwell_model` will be treated as a new local. Disambiguate by using `local maxwell_model` to suppress this warning or `global maxwell_model` to assign to the existing global variable.\n",
      "└ @ ~/work/RHEOS.jl/RHEOS.jl/docs/staging-docs/notebooks/examples.ipynb:13\n"
     ]
    }
   ],
   "cell_type": "code",
   "source": [
    "# Creates a time only dataset\n",
    "dϵ = timeline(t_end = 10)\n",
    "# calculates strain data by applying a function of time\n",
    "dϵ = strainfunction(dϵ, t -> sin(t))\n",
    "\n",
    "# Plot strain data\n",
    "fig, ax = subplots(1, 1, figsize = (7, 5))\n",
    "ax.plot(dϵ.t, dϵ.ϵ, \"--b\")\n",
    "\n",
    "# we can now simulate various models based on this strain only dataset\n",
    "# Let's study the role of the dashpot strength in the MAxwell model\n",
    "for η in [0.1, 0.3, 1, 3, 10]\n",
    "    maxwell_model = RheoModel(Maxwell, k = 2., η = η)\n",
    "    d_maxwell = modelpredict(dϵ, maxwell_model)\n",
    "    ax.plot(d_maxwell.t, d_maxwell.σ)\n",
    "end\n",
    "ax.set_xlabel(\"Time\")\n",
    "ax.set_ylabel(\"Stress\")\n",
    "ax.grid(\"on\")"
   ],
   "metadata": {},
   "execution_count": 8
  },
  {
   "cell_type": "markdown",
   "source": [
    "---\n",
    "\n",
    "*This notebook was generated using [Literate.jl](https://github.com/fredrikekre/Literate.jl).*"
   ],
   "metadata": {}
  }
 ],
 "nbformat_minor": 3,
 "metadata": {
  "language_info": {
   "file_extension": ".jl",
   "mimetype": "application/julia",
   "name": "julia",
   "version": "1.8.4"
  },
  "kernelspec": {
   "name": "julia-1.8",
   "display_name": "Julia 1.8.4",
   "language": "julia"
  }
 },
 "nbformat": 4
}
