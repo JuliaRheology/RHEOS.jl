{
 "cells": [
  {
   "cell_type": "markdown",
   "source": [
    "# File I/O"
   ],
   "metadata": {}
  },
  {
   "cell_type": "markdown",
   "source": [
    "## Import Data"
   ],
   "metadata": {}
  },
  {
   "outputs": [],
   "cell_type": "code",
   "source": [
    "using RHEOS"
   ],
   "metadata": {},
   "execution_count": 1
  },
  {
   "cell_type": "markdown",
   "source": [
    "RHEOS has a convenience function for importing data from CSV files: `importcsv`. The default column delimiter is ',' but an alternative can be specified as a keyword argument. The row delimiter is a newline character ('\\n'). For standard time-domain viscoelastic testing data RHEOS expects either stress, strain and time data, just stress and time, or just strain and time. Arguments must be identified by providing the number of the column in which they are contained. The function returns a `RheoTimeData` object."
   ],
   "metadata": {}
  },
  {
   "outputs": [
    {
     "output_type": "execute_result",
     "data": {
      "text/plain": "strain_only::TimeDataType = 1"
     },
     "metadata": {},
     "execution_count": 2
    }
   ],
   "cell_type": "code",
   "source": [
    "# Import file\n",
    "data_1 = importcsv(\"assets/data_time.csv\", t_col=1, ϵ_col=2, σ_col=3)\n",
    "# Check data type\n",
    "RheoTimeDataType(data_1)\n",
    "\n",
    "# Import incomplete data\n",
    "data_2 = importcsv(\"assets/data_time.csv\", t_col=1, ϵ_col=2)\n",
    "# Check data type\n",
    "RheoTimeDataType(data_2)"
   ],
   "metadata": {},
   "execution_count": 2
  },
  {
   "cell_type": "markdown",
   "source": [
    "The function `importcsv` can also be used to import frequency, storage modulus, and loss modulus data (as a complete set). In this case, the function returns a `RheoFreqData` object."
   ],
   "metadata": {}
  },
  {
   "outputs": [
    {
     "output_type": "execute_result",
     "data": {
      "text/plain": "with_modulus::FreqDataType = 1"
     },
     "metadata": {},
     "execution_count": 3
    }
   ],
   "cell_type": "code",
   "source": [
    "# Import file\n",
    "data_f = importcsv(\"assets/data_freq.csv\", ω_col=1, Gp_col=2, Gpp_col=3)\n",
    "# Check data type\n",
    "RheoFreqDataType(data_f)"
   ],
   "metadata": {},
   "execution_count": 3
  },
  {
   "cell_type": "markdown",
   "source": [
    "## Export Data"
   ],
   "metadata": {}
  },
  {
   "cell_type": "markdown",
   "source": [
    "If you want to analyse or plot your data in software other than Julia you will likely want to export it to a CSV file. To export `RheoTimeData` and `RheoFreqData` objects to CSV files we can use the `exportcsv` function. For the two complete data-sets we imported above, we can export them into new files in the following way. As with `importcsv`, the order of the columns can be specified by the user."
   ],
   "metadata": {}
  },
  {
   "outputs": [],
   "cell_type": "code",
   "source": [
    "# Export file\n",
    "exportcsv(data_1,\"assets/export_timedata.csv\")\n",
    "exportcsv(data_f,\"assets/export_frequdata.csv\")"
   ],
   "metadata": {},
   "execution_count": 4
  },
  {
   "cell_type": "markdown",
   "source": [
    "---\n",
    "\n",
    "*This notebook was generated using [Literate.jl](https://github.com/fredrikekre/Literate.jl).*"
   ],
   "metadata": {}
  }
 ],
 "nbformat_minor": 3,
 "metadata": {
  "language_info": {
   "file_extension": ".jl",
   "mimetype": "application/julia",
   "name": "julia",
   "version": "1.5.3"
  },
  "kernelspec": {
   "name": "julia-1.5",
   "display_name": "Julia 1.5.3",
   "language": "julia"
  }
 },
 "nbformat": 4
}
