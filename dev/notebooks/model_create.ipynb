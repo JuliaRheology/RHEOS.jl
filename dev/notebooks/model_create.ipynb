{
 "cells": [
  {
   "cell_type": "markdown",
   "source": [
    "# Create Your Model"
   ],
   "metadata": {}
  },
  {
   "cell_type": "markdown",
   "source": [
    "RHEOS provide an extensive model library (see Models section). However, if you would like to use a model that has not already been implemented in RHEOS, you can quickly define your own model as described below. Note that currently RHEOS can only handle linear viscoelastic models. Therefore, any added model must satisfy this condition."
   ],
   "metadata": {}
  },
  {
   "cell_type": "markdown",
   "source": [
    "The `RheoModelClass` constructor does not need to contain all moduli functions, depending on what variables are fitted and predicted down the line (relaxation modulus G for stress, creep function J for strain, and complex moduli Gp and Gpp for frequency domain data). As an example, we will assume that only the relaxation modulus is known."
   ],
   "metadata": {}
  },
  {
   "outputs": [],
   "cell_type": "code",
   "source": [
    "using RHEOS\n",
    "using PyPlot"
   ],
   "metadata": {},
   "execution_count": 1
  },
  {
   "outputs": [
    {
     "output_type": "execute_result",
     "data": {
      "text/plain": "\nModel name: power_empirical\n\nFree parameters: A and α\nEmpirical model"
     },
     "metadata": {},
     "execution_count": 2
    }
   ],
   "cell_type": "code",
   "source": [
    "PowerLawEmpirical =  RheoModelClass(\n",
    "                        # Model name\n",
    "                        name = \"power_empirical\",\n",
    "                        # Model parameters,\n",
    "                        p = (:A, :α),\n",
    "                        # Relaxation modulus\n",
    "                        G = quote\n",
    "                                A*t^(-α)\n",
    "                            end,\n",
    "                        # Network\n",
    "                        info = \"Empirical model\"\n",
    "                        )"
   ],
   "metadata": {},
   "execution_count": 2
  },
  {
   "outputs": [],
   "cell_type": "code",
   "source": [
    "# generate timeline\n",
    "dϵ = timeline(t_start = 1e-2, t_end = 1e1)\n",
    "# calculates strain data by applying a function of time\n",
    "dϵ = strainfunction(dϵ, hstep())\n",
    "\n",
    "# Fix model parameters\n",
    "powermodel = RheoModel(PowerLawEmpirical, A = 1, α = 0.8)\n",
    "\n",
    "# Evaluate relaxation response\n",
    "dpower = modelpredict(dϵ, powermodel)\n",
    "\n",
    "fig, ax = subplots(1, 1, figsize = (3, 3))\n",
    "ax.loglog(dpower.t, dpower.σ)\n",
    "ax.set_xlabel(\"Time\")\n",
    "ax.set_ylabel(\"Stress\")\n",
    "ax.set_ylim(bottom = 0.1, top = 20)\n",
    "ax.grid(\"on\")"
   ],
   "metadata": {},
   "execution_count": 3
  },
  {
   "cell_type": "markdown",
   "source": [
    "In a similar way, it is possible to define a model with only creep modulus. In this case, only strain can be fitted/predicted."
   ],
   "metadata": {}
  },
  {
   "cell_type": "markdown",
   "source": [
    "---\n",
    "\n",
    "*This notebook was generated using [Literate.jl](https://github.com/fredrikekre/Literate.jl).*"
   ],
   "metadata": {}
  }
 ],
 "nbformat_minor": 3,
 "metadata": {
  "language_info": {
   "file_extension": ".jl",
   "mimetype": "application/julia",
   "name": "julia",
   "version": "1.8.4"
  },
  "kernelspec": {
   "name": "julia-1.8",
   "display_name": "Julia 1.8.4",
   "language": "julia"
  }
 },
 "nbformat": 4
}
