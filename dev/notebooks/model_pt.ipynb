{
 "cells": [
  {
   "cell_type": "markdown",
   "source": [
    "# Fractional Poynting-Thomson"
   ],
   "metadata": {}
  },
  {
   "outputs": [],
   "cell_type": "code",
   "source": [
    "using RHEOS\n",
    "# include a helper function for plotting\n",
    "include(\"assets/plothelper.jl\");"
   ],
   "metadata": {},
   "execution_count": null
  },
  {
   "outputs": [],
   "cell_type": "code",
   "source": [
    "Fract_PT"
   ],
   "metadata": {},
   "execution_count": null
  },
  {
   "cell_type": "markdown",
   "source": [
    "#### Constitutive Equation\n",
    "$$\n",
    "\\sigma(t) + \\frac{c_\\alpha}{c_\\gamma} \\frac{d^{\\alpha-\\gamma} \\sigma(t)}{dt^{\\alpha-\\gamma}}+ \\frac{c_\\beta}{c_\\gamma} \\frac{d^{\\beta-\\gamma} \\sigma(t)}{dt^{\\beta-\\gamma}}= c_{\\alpha} \\frac{d^\\alpha \\epsilon(t)}{dt^\\alpha} + c_\\beta \\frac{d^\\beta \\epsilon(t)}{dt^\\beta}\n",
    "$$"
   ],
   "metadata": {}
  },
  {
   "cell_type": "markdown",
   "source": [
    "$$\n",
    "\\text{for}\\; \\ 0 \\leq \\beta \\leq \\alpha \\leq 1\n",
    "$$"
   ],
   "metadata": {}
  },
  {
   "cell_type": "markdown",
   "source": [
    "#### Relaxation Modulus\n",
    "$$\n",
    "\\tilde{G}(s) = \\frac{1}{s}\\frac{c_\\gamma s^\\gamma \\cdot \\left[c_\\alpha s^\\alpha + c_\\beta s^{\\beta}\\right]}{c_\\gamma s^\\gamma+c_\\alpha s^{\\alpha}+c_\\beta s^{\\beta}}\n",
    "$$"
   ],
   "metadata": {}
  },
  {
   "cell_type": "markdown",
   "source": [
    "#### Creep Modulus\n",
    "$$\n",
    "J(t)= \\frac{t^{\\alpha}}{c_\\alpha} E_{\\alpha-\\beta,1+\\alpha}\\left(-\\frac{c_\\beta}{c_\\alpha} t^{\\alpha-\\beta}\\right) + \\frac{1}{c_\\gamma \\Gamma(1+\\gamma)}t^\\gamma\n",
    "$$"
   ],
   "metadata": {}
  },
  {
   "cell_type": "markdown",
   "source": [
    "#### Storage Modulus\n",
    "$$\n",
    "G^{\\prime}(\\omega) = \\frac{c_\\gamma \\omega^\\gamma \\cos\\left(\\gamma \\frac{\\pi}{2}\\right) \\left[\\left(c_\\alpha \\omega^\\alpha\\right)^2+\\left(c_\\beta \\omega^\\beta\\right)^2 \\right]+\\left(c_\\gamma \\omega^\\gamma\\right)^2 \\left[c_\\alpha \\omega^\\alpha \\cos\\left(\\alpha \\frac{\\pi}{2}\\right)+c_\\beta \\omega^\\beta \\cos\\left(\\beta \\frac{\\pi}{2}\\right) \\right] + c_\\alpha \\omega^\\alpha \\cdot c_\\beta\\omega^\\beta \\cdot c_\\gamma \\omega^\\gamma \\left[\\cos\\left((\\alpha-\\beta-\\gamma) \\frac{\\pi}{2}\\right)+\\cos\\left((\\beta-\\alpha-\\gamma) \\frac{\\pi}{2}\\right) \\right]}{\\left(c_\\alpha \\omega^\\alpha\\right)^2+\\left(c_\\beta \\omega^\\beta\\right)^2+\\left(c_\\gamma \\omega^\\gamma\\right)^2+2c_\\alpha \\omega^\\alpha \\cdot c_\\beta \\omega^\\beta \\cos((\\alpha-\\beta)\\frac{\\pi}{2})+2c_\\alpha \\omega^\\alpha \\cdot c_\\gamma \\omega^\\gamma \\cos((\\alpha-\\gamma)\\frac{\\pi}{2})+2c_\\beta \\omega^\\beta \\cdot c_\\gamma \\omega^\\gamma \\cos((\\beta-\\gamma)\\frac{\\pi}{2})}\n",
    "$$"
   ],
   "metadata": {}
  },
  {
   "cell_type": "markdown",
   "source": [
    "#### Loss Modulus\n",
    "$$\n",
    "G^{\\prime\\prime}(\\omega) = \\frac{c_\\gamma \\omega^\\gamma \\sin\\left(\\gamma \\frac{\\pi}{2}\\right) \\left[\\left(c_\\alpha \\omega^\\alpha\\right)^2+\\left(c_\\beta \\omega^\\beta\\right)^2 \\right]+\\left(c_\\gamma \\omega^\\gamma\\right)^2 \\left[c_\\alpha \\omega^\\alpha \\sin\\left(\\alpha \\frac{\\pi}{2}\\right)+c_\\beta \\omega^\\beta \\sin\\left(\\beta \\frac{\\pi}{2}\\right) \\right] + c_\\alpha \\omega^\\alpha \\cdot c_\\beta\\omega^\\beta \\cdot c_\\gamma \\omega^\\gamma \\left[\\sin\\left((\\alpha-\\beta-\\gamma) \\frac{\\pi}{2}\\right)+\\sin\\left((\\beta-\\alpha-\\gamma) \\frac{\\pi}{2}\\right) \\right]}{\\left(c_\\alpha \\omega^\\alpha\\right)^2+\\left(c_\\beta \\omega^\\beta\\right)^2+\\left(c_\\gamma \\omega^\\gamma\\right)^2+2c_\\alpha \\omega^\\alpha \\cdot c_\\beta \\omega^\\beta \\cos((\\alpha-\\beta)\\frac{\\pi}{2})+2c_\\alpha \\omega^\\alpha \\cdot c_\\gamma \\omega^\\gamma \\cos((\\alpha-\\gamma)\\frac{\\pi}{2})+2c_\\beta \\omega^\\beta \\cdot c_\\gamma \\omega^\\gamma \\cos((\\beta-\\gamma)\\frac{\\pi}{2})}\n",
    "$$"
   ],
   "metadata": {}
  },
  {
   "cell_type": "markdown",
   "source": [
    "# Fractional SLS (PT)"
   ],
   "metadata": {}
  },
  {
   "outputs": [],
   "cell_type": "code",
   "source": [
    "FractSLS_PT"
   ],
   "metadata": {},
   "execution_count": null
  },
  {
   "outputs": [],
   "cell_type": "code",
   "source": [
    "models = Vector{RheoModel}()\n",
    "\n",
    "# plot moduli for varying α\n",
    "for alpha in [0.1, 0.25, 0.5, 0.74, 0.9]\n",
    "\n",
    "    push!(models, RheoModel(FractSLS_PT, (cₐ = 1, a = alpha, kᵦ = 1, kᵧ = 1)))\n",
    "\n",
    "end\n",
    "\n",
    "plotmodel(models)"
   ],
   "metadata": {},
   "execution_count": null
  },
  {
   "cell_type": "markdown",
   "source": [
    "# Fractional Jeffreys (PT)"
   ],
   "metadata": {}
  },
  {
   "outputs": [],
   "cell_type": "code",
   "source": [
    "FractJeffreys_PT"
   ],
   "metadata": {},
   "execution_count": null
  },
  {
   "outputs": [],
   "cell_type": "code",
   "source": [
    "models = Vector{RheoModel}()\n",
    "\n",
    "# plot moduli for varying β\n",
    "for beta in [0.1, 0.25, 0.5, 0.74, 0.9]\n",
    "\n",
    "    push!(models, RheoModel(FractJeffreys_PT, (ηₐ = 1, cᵦ = 1, β = beta, ηᵧ = 1)))\n",
    "\n",
    "end\n",
    "\n",
    "plotmodel(models, ymaxG = 0.5)"
   ],
   "metadata": {},
   "execution_count": null
  },
  {
   "cell_type": "markdown",
   "source": [
    "# Standard Linear Solid (PT)"
   ],
   "metadata": {}
  },
  {
   "outputs": [],
   "cell_type": "code",
   "source": [
    "SLS_PT"
   ],
   "metadata": {},
   "execution_count": null
  },
  {
   "outputs": [],
   "cell_type": "code",
   "source": [
    "models = Vector{RheoModel}()\n",
    "\n",
    "# plot moduli for varying kᵦ\n",
    "for k in [1.0, 3.0, 5.0]\n",
    "\n",
    "    push!(models, RheoModel(SLS_PT, (η = 1, kᵦ = k, kᵧ = 1)))\n",
    "\n",
    "end\n",
    "\n",
    "plotmodel(models)"
   ],
   "metadata": {},
   "execution_count": null
  },
  {
   "cell_type": "markdown",
   "source": [
    "# Jeffreys (Zener)"
   ],
   "metadata": {}
  },
  {
   "outputs": [],
   "cell_type": "code",
   "source": [
    "Jeffreys_PT"
   ],
   "metadata": {},
   "execution_count": null
  },
  {
   "outputs": [],
   "cell_type": "code",
   "source": [
    "models = Vector{RheoModel}()\n",
    "\n",
    "# plot moduli for varying ηₐ\n",
    "for eta in [1.0, 5.0, 8.0]\n",
    "\n",
    "    push!(models, RheoModel(Jeffreys_PT, (ηₐ = eta, k = 3, ηᵧ = 1)))\n",
    "\n",
    "end\n",
    "\n",
    "plotmodel(models)"
   ],
   "metadata": {},
   "execution_count": null
  },
  {
   "cell_type": "markdown",
   "source": [
    "---\n",
    "\n",
    "*This notebook was generated using [Literate.jl](https://github.com/fredrikekre/Literate.jl).*"
   ],
   "metadata": {}
  }
 ],
 "nbformat_minor": 3,
 "metadata": {
  "language_info": {
   "file_extension": ".jl",
   "mimetype": "application/julia",
   "name": "julia",
   "version": "1.10.5"
  },
  "kernelspec": {
   "name": "julia-1.10",
   "display_name": "Julia 1.10.5",
   "language": "julia"
  }
 },
 "nbformat": 4
}
