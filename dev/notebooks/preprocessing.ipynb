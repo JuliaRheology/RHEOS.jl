{
 "cells": [
  {
   "cell_type": "markdown",
   "source": [
    "# Preprocessing of Data"
   ],
   "metadata": {}
  },
  {
   "cell_type": "markdown",
   "source": [
    "RHEOS offers several functions for sampling and filtering data; this page is intended to be a brief tutorial of their use. For detailed descriptions of functions and their optional arguments, see the API section."
   ],
   "metadata": {}
  },
  {
   "outputs": [],
   "cell_type": "code",
   "source": [
    "using RHEOS\n",
    "using PyPlot"
   ],
   "metadata": {},
   "execution_count": 1
  },
  {
   "cell_type": "markdown",
   "source": [
    "## Upsampling and Downsampling"
   ],
   "metadata": {}
  },
  {
   "cell_type": "markdown",
   "source": [
    "We generate a simple sinusoid with constant sampling rate (more details about data generation are discussed in the Generating Data section)."
   ],
   "metadata": {}
  },
  {
   "outputs": [
    {
     "output_type": "execute_result",
     "data": {
      "text/plain": "1-element Array{PyCall.PyObject,1}:\n PyObject <matplotlib.lines.Line2D object at 0x7f13968a71f0>"
     },
     "metadata": {},
     "execution_count": 2
    }
   ],
   "cell_type": "code",
   "source": [
    "# Generate a sinusoidal data set\n",
    "foo = timeline(t_start = 0, t_end = 10, step = 0.4)\n",
    "foo = strainfunction(foo, t -> sin(t))\n",
    "fig, ax = subplots(1, 1, figsize = (5, 5))\n",
    "ax.plot(foo.t, foo.ϵ, \"--\", marker = \"o\", markersize = 8, color = \"blue\")"
   ],
   "metadata": {},
   "execution_count": 2
  },
  {
   "cell_type": "markdown",
   "source": [
    "To downsample the full data set , the function `resample` is used with a `scale` argument less than 1. Similarly, to increase the sample rate, the `scale` argument should be greater than 1."
   ],
   "metadata": {}
  },
  {
   "cell_type": "markdown",
   "source": [
    "Note: when scaling, the argument can be an integer, floating point, or rational type. The function contains greater functionality and versatility than shown here. See the `resample` docstring for more information."
   ],
   "metadata": {}
  },
  {
   "outputs": [
    {
     "output_type": "execute_result",
     "data": {
      "text/plain": "1-element Array{PyCall.PyObject,1}:\n PyObject <matplotlib.lines.Line2D object at 0x7f139687b040>"
     },
     "metadata": {},
     "execution_count": 3
    }
   ],
   "cell_type": "code",
   "source": [
    "# Downsample\n",
    "foo_dsamp = resample(foo, scale = 1//2)\n",
    "# Upsample\n",
    "foo_usamp = resample(foo, scale = 2)\n",
    "\n",
    "# Plotting\n",
    "fig, ax = subplots(1, 2, figsize = (10, 5))\n",
    "ax[1].set_title(\"Downsampling\")\n",
    "ax[1].plot(foo.t, foo.ϵ, \"--\", marker = \"o\", markersize = 8, color = \"blue\")\n",
    "ax[1].plot(foo_dsamp.t, foo_dsamp.ϵ, \"--\", marker = \"x\", markersize = 10, markeredgewidth = 2, color = \"orange\")\n",
    "ax[2].set_title(\"Upsampling\")\n",
    "ax[2].plot(foo.t, foo.ϵ, \"--\", marker = \"o\", markersize = 8, color = \"blue\")\n",
    "ax[2].plot(foo_usamp.t, foo_usamp.ϵ, \"--\", marker = \"x\", markersize = 10, markeredgewidth = 2, color = \"orange\")"
   ],
   "metadata": {},
   "execution_count": 3
  },
  {
   "cell_type": "markdown",
   "source": [
    "## Cutting"
   ],
   "metadata": {}
  },
  {
   "cell_type": "markdown",
   "source": [
    "RHEOS provides a dedicated function, `resample`, to remove the data outside a specified time interval."
   ],
   "metadata": {}
  },
  {
   "outputs": [
    {
     "output_type": "execute_result",
     "data": {
      "text/plain": "1-element Array{PyCall.PyObject,1}:\n PyObject <matplotlib.lines.Line2D object at 0x7f1396824f10>"
     },
     "metadata": {},
     "execution_count": 4
    }
   ],
   "cell_type": "code",
   "source": [
    "foo_cut = cutting(foo, 2.0, 8.0)\n",
    "\n",
    "# Plotting\n",
    "fig, ax = subplots(1, 1, figsize = (5, 5))\n",
    "ax.plot(foo.t, foo.ϵ, \"--\", marker = \"o\", markersize = 8, color = \"blue\")\n",
    "ax.plot(foo_cut.t, foo_cut.ϵ, \"--\", marker = \"x\", markersize = 10, markeredgewidth = 2, color = \"orange\")"
   ],
   "metadata": {},
   "execution_count": 4
  },
  {
   "cell_type": "markdown",
   "source": [
    "## Smoothing"
   ],
   "metadata": {}
  },
  {
   "cell_type": "markdown",
   "source": [
    "Lastly, RHEOS provides a smoothing function, `smooth`. The first argument is the data to smooth and the second argument is the (very) approximate time scale of smoothing. (It uses Gaussian smoothing and can be thought of as a low pass filter for information occuring on time scales shorter than the 2nd argument). The padding can be changed using a keyword argument if desired, see API and [ImageFiltering.jl Documentation](https://juliaimages.github.io/ImageFiltering.jl/stable/) for more details."
   ],
   "metadata": {}
  },
  {
   "outputs": [
    {
     "output_type": "execute_result",
     "data": {
      "text/plain": "1-element Array{PyCall.PyObject,1}:\n PyObject <matplotlib.lines.Line2D object at 0x7f13867d7220>"
     },
     "metadata": {},
     "execution_count": 5
    }
   ],
   "cell_type": "code",
   "source": [
    "foo_s = timeline(t_start = 0, t_end = 10, step = 0.02)\n",
    "foo_s = strainfunction(foo_s, t -> 3*sin(t))\n",
    "noise = strainfunction(foo_s, t -> rand())\n",
    "\n",
    "foo_noisy = foo_s + noise\n",
    "foo_smooth = smooth(foo_noisy, 1)\n",
    "\n",
    "fig, ax = subplots(1, 1, figsize = (5, 5))\n",
    "ax.plot(foo_noisy.t, foo_noisy.ϵ, color = \"blue\")\n",
    "ax.plot(foo_smooth.t, foo_smooth.ϵ, color = \"orange\")"
   ],
   "metadata": {},
   "execution_count": 5
  },
  {
   "cell_type": "markdown",
   "source": [
    "---\n",
    "\n",
    "*This notebook was generated using [Literate.jl](https://github.com/fredrikekre/Literate.jl).*"
   ],
   "metadata": {}
  }
 ],
 "nbformat_minor": 3,
 "metadata": {
  "language_info": {
   "file_extension": ".jl",
   "mimetype": "application/julia",
   "name": "julia",
   "version": "1.5.3"
  },
  "kernelspec": {
   "name": "julia-1.5",
   "display_name": "Julia 1.5.3",
   "language": "julia"
  }
 },
 "nbformat": 4
}
