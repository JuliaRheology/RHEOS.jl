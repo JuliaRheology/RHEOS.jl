{
 "cells": [
  {
   "cell_type": "markdown",
   "source": [
    "# Fitting and Predicting - Frequency Data"
   ],
   "metadata": {}
  },
  {
   "cell_type": "markdown",
   "source": [
    "RHEOS can also fit models to dynamic mechanical analysis data from oscillatory tests."
   ],
   "metadata": {}
  },
  {
   "outputs": [],
   "cell_type": "code",
   "source": [
    "using RHEOS"
   ],
   "metadata": {},
   "execution_count": 1
  },
  {
   "cell_type": "markdown",
   "source": [
    "## Fitting"
   ],
   "metadata": {}
  },
  {
   "cell_type": "markdown",
   "source": [
    "#### Step 1: Loading Experimental Data"
   ],
   "metadata": {}
  },
  {
   "cell_type": "markdown",
   "source": [
    "RHEOS has a convenient function to import data from CSV files (more information in File I/O section)."
   ],
   "metadata": {}
  },
  {
   "outputs": [
    {
     "output_type": "execute_result",
     "data": {
      "text/plain": "with_modulus::FreqDataType = 1"
     },
     "metadata": {},
     "execution_count": 2
    }
   ],
   "cell_type": "code",
   "source": [
    "data = importcsv(\"assets/data_freq.csv\", ω_col = 1, Gp_col = 2, Gpp_col = 3)\n",
    "rheofreqdatatype(data)"
   ],
   "metadata": {},
   "execution_count": 2
  },
  {
   "cell_type": "markdown",
   "source": [
    "The frequency, storage modulus and loss modulus are stored into a `RheoFreqData` struct."
   ],
   "metadata": {}
  },
  {
   "cell_type": "markdown",
   "source": [
    "#### Step 2: Model Fit"
   ],
   "metadata": {}
  },
  {
   "cell_type": "markdown",
   "source": [
    "Let's fit a Fractional Kelvin-Voigt model. The first argument is our data, the second argument tells RHEOS which model to fit (`RheoModelClass`). The function will return a `RheoModel` object, i.e. a `RheoModelClass` with fixed values for the parameters. The function `dynamicmodelfit` possesses all the additional arguments (lower and upper bounds, initial parameters, tolerance) as for the fitting of time data. Note that initial parameters, upper bounds and lower bounds can be partially specified and the rest will be filled in automatically."
   ],
   "metadata": {}
  },
  {
   "outputs": [
    {
     "name": "stdout",
     "output_type": "stream",
     "text": [
      "┌ Warning: Note that a logarithmic rescaling will fail if Gp or Gpp data contain 0.0 values as it will result in -Inf cost. Trying a different rescaling scheme, or not fitting around ω≈0.0 may alleviate the issue.\n",
      "└ @ RHEOS ~/work/RHEOS.jl/RHEOS.jl/src/processing.jl:836\n",
      "Time: 0.550064589 s, Why: XTOL_REACHED, Parameters: [0.009444444354349515, 0.7669468645264774, 0.914778549164041, 0.09972297772570522], Error: 0.34226614698083296"
     ]
    },
    {
     "output_type": "execute_result",
     "data": {
      "text/plain": "\nModel name: fractKV\n\nFree parameters: \n\n\nFixed parameters: (cₐ = 0.009444444354349515, a = 0.7669468645264774, cᵦ = 0.914778549164041, β = 0.09972297772570522)\n\n                ________ ╱╲ ________\n               |         ╲╱  cₐ, a  |\n           ____|                    |____\n               |                    |\n               |________ ╱╲ ________|\n                         ╲╱  cᵦ, β\n                "
     },
     "metadata": {},
     "execution_count": 3
    }
   ],
   "cell_type": "code",
   "source": [
    "# Lower bounds\n",
    "Lo = (cₐ = 0.0, a = 0.01, cᵦ = 0.0, β = 0.01)\n",
    "# Upper bounds\n",
    "Hi = (cₐ = 1e2, a = 0.99, cᵦ = 1e2, β = 0.99)\n",
    "# Initial parameters\n",
    "P0 = (cₐ = 1.0, a = 0.36, cᵦ = 1.0, β = 0.03)\n",
    "\n",
    "FractKV_model = dynamicmodelfit(data, Fract_KelvinVoigt, weights = \"log\", lo = Lo, hi = Hi, p0 = P0)"
   ],
   "metadata": {},
   "execution_count": 3
  },
  {
   "cell_type": "markdown",
   "source": [
    "For the fitting process RHEOS relies on the optimistion package [NLopt.jl](https://nlopt.readthedocs.io/en/latest/). RHEOS makes use of a local derivative free algorithm, specifically the Tom Rowan's \"Subplex\" algorithm originally introduced in his [PhD thesis at The University of Texas at Austin, 1990](https://dl.acm.org/doi/book/10.5555/100816)."
   ],
   "metadata": {}
  },
  {
   "cell_type": "markdown",
   "source": [
    "The storage and loss moduli can sometimes occupy different orders of magnitude. This can cause problems during fitting as the optimisation routine will weight errors at the higher orders of magnitude more strongly than those at the lower orders of magnitude. This is a more general problem often faced during multi-objective optimisation problems. RHEOS offers four rescaling options (weight):\n",
    "- The `local` option rescales the cost at each point by the point itself.\n",
    "- The `log` approach simply re-scales all the storage and loss moduli and their predicted values logarithmically before finding the error between them.\n",
    "- A third option in RHEOS divides the cost at each point by the mean value of the storage and loss modulus respectively depending on which cost is being calculated. This can work well but performance is hindered if the storage or loss moduli individually vary over many orders of magnitude (`mean`).\n",
    "- The fourth option offered by RHEOS is simply manual weightings provided by the user for each modulus (`manual`).\n",
    "In the first two cases, the benefit arises from the fact that the optimisation weighting is rebalanced in favour of smaller values. The logarithmic rescaling method seems to work particularly well but runs into problems if the storage or loss moduli are exactly 0 at any frequency, this is due to the negative singularity of the logarithmic function for the 0 argument. 0 arguments can also cause problems using the `local` option due to division by 0."
   ],
   "metadata": {}
  },
  {
   "cell_type": "markdown",
   "source": [
    "## Predicting"
   ],
   "metadata": {}
  },
  {
   "cell_type": "markdown",
   "source": [
    "RHEOS allows the user to simulate the frequency response of a model (with defined parameters, `RheoModel` struct) to an imposed loading."
   ],
   "metadata": {}
  },
  {
   "cell_type": "markdown",
   "source": [
    "Given an incomplete data set (frequency only) and model with values substituted into parameters (`RheoModel`), return a new \"complete\" dataset based on the model with the simulated missing variable (storage and loss)."
   ],
   "metadata": {}
  },
  {
   "cell_type": "markdown",
   "source": [
    "#### Assessing the Quality of Fit"
   ],
   "metadata": {}
  },
  {
   "cell_type": "markdown",
   "source": [
    "The ability of predicting model's response is first exploited to assess the quality of the fits above. The incomplete `RheoFreqData` variable is defined by extracting the frequency from the original data or by defining a new frequency vector."
   ],
   "metadata": {}
  },
  {
   "outputs": [
    {
     "output_type": "execute_result",
     "data": {
      "text/plain": "freq_only::FreqDataType = 0"
     },
     "metadata": {},
     "execution_count": 4
    }
   ],
   "cell_type": "code",
   "source": [
    "data_ext = extract(data, freq_only)\n",
    "# Alternatively, a RheoFreqData with only frequency data can be generated as\n",
    "# data_ext = frequencyspec(ω_start = 1.0e-2, ω_end = 1.0e2, logstep = 0.1)\n",
    "\n",
    "rheofreqdatatype(data_ext)"
   ],
   "metadata": {},
   "execution_count": 4
  },
  {
   "cell_type": "markdown",
   "source": [
    "For the prediction, RHEOS' function `dynamicmodelpredict` requires the incomplete data set and a model with fixed parameters (`RheoModel`). For the assessment of the fitting quality the `RheoModel` is the output of the fitting function."
   ],
   "metadata": {}
  },
  {
   "outputs": [
    {
     "output_type": "execute_result",
     "data": {
      "text/plain": "PyObject Text(0, 0.5, 'Storage and Loss moduli')"
     },
     "metadata": {},
     "execution_count": 5
    }
   ],
   "cell_type": "code",
   "source": [
    "fractKV_predict = dynamicmodelpredict(data_ext, FractKV_model)\n",
    "\n",
    "# Now we can plot data and model together for comparison\n",
    "using PyPlot\n",
    "fig, ax = subplots(1, 1, figsize = (7, 5))\n",
    "ax.loglog(data.ω, data.Gp, \"o\", markersize = 5, color = \"blue\")\n",
    "ax.loglog(data.ω, data.Gpp, \"o\", markersize = 5, color = \"red\")\n",
    "ax.loglog(fractKV_predict.ω, fractKV_predict.Gp, \"--\", color = \"blue\")\n",
    "ax.loglog(fractKV_predict.ω, fractKV_predict.Gpp, \"--\", color = \"red\")\n",
    "ax.set_xlabel(\"Frequency\")\n",
    "ax.set_ylabel(\"Storage and Loss moduli\")"
   ],
   "metadata": {},
   "execution_count": 5
  },
  {
   "cell_type": "markdown",
   "source": [
    "#### Simulate Different Model Behaviours"
   ],
   "metadata": {}
  },
  {
   "cell_type": "markdown",
   "source": [
    "The ability of predicting model's response can be exploited to simulate the behaviour of the model to other external loading conditions. For example, we will explore the response of the fitted model to a creep experiment."
   ],
   "metadata": {}
  },
  {
   "cell_type": "markdown",
   "source": [
    "First we need to define an incomplete `RheoTimeData` struct, which can be achieved via the data generation functions provided in RHEOS (see section Generating Data)."
   ],
   "metadata": {}
  },
  {
   "outputs": [
    {
     "output_type": "execute_result",
     "data": {
      "text/plain": "PyObject Text(0, 0.5, 'Strain')"
     },
     "metadata": {},
     "execution_count": 6
    }
   ],
   "cell_type": "code",
   "source": [
    "# Define timeline\n",
    "dσ = timeline(t_end = 10)\n",
    "# and a step in stress\n",
    "dσ = stressfunction(dσ, hstep())\n",
    "\n",
    "# we can now predict the creep response of the Maxwell model\n",
    "FractKV_creepPredict = modelsteppredict(dσ, FractKV_model)\n",
    "# Visualisation of the simulated response\n",
    "fig, ax = subplots(1, 1, figsize = (7, 5))\n",
    "ax.plot(FractKV_creepPredict.t, FractKV_creepPredict.ϵ)\n",
    "ax.set_xlabel(\"Time\")\n",
    "ax.set_ylabel(\"Strain\")"
   ],
   "metadata": {},
   "execution_count": 6
  },
  {
   "cell_type": "markdown",
   "source": [
    "**Reference frequency data**: Deng, Linhong, et al. \"Fast and slow dynamics of the cytoskeleton.\" Nature materials 5.8 (2006): 636."
   ],
   "metadata": {}
  },
  {
   "cell_type": "markdown",
   "source": [
    "---\n",
    "\n",
    "*This notebook was generated using [Literate.jl](https://github.com/fredrikekre/Literate.jl).*"
   ],
   "metadata": {}
  }
 ],
 "nbformat_minor": 3,
 "metadata": {
  "language_info": {
   "file_extension": ".jl",
   "mimetype": "application/julia",
   "name": "julia",
   "version": "1.6.2"
  },
  "kernelspec": {
   "name": "julia-1.6",
   "display_name": "Julia 1.6.2",
   "language": "julia"
  }
 },
 "nbformat": 4
}
