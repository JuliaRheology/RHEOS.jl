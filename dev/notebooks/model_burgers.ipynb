{
 "cells": [
  {
   "cell_type": "markdown",
   "source": [
    "# Burgers (Liquid)"
   ],
   "metadata": {}
  },
  {
   "outputs": [],
   "cell_type": "code",
   "source": [
    "using RHEOS\n",
    "# include a helper function for plotting\n",
    "include(\"assets/plothelper.jl\");"
   ],
   "metadata": {},
   "execution_count": null
  },
  {
   "outputs": [],
   "cell_type": "code",
   "source": [
    "BurgersLiquid"
   ],
   "metadata": {},
   "execution_count": null
  },
  {
   "cell_type": "markdown",
   "source": [
    "#### Constitutive Equation\n",
    "$$\n",
    "\\sigma(t) + p_1 \\frac{d \\sigma(t)}{dt} + p_2  \\frac{d^2 \\sigma(t)}{dt^2} = q_1  \\frac{d \\epsilon(t)}{dt} + q_2  \\frac{d^2 \\epsilon(t)}{dt^2}\n",
    "$$"
   ],
   "metadata": {}
  },
  {
   "cell_type": "markdown",
   "source": [
    "$$\n",
    "\\text{where}\\; \\ p_1 = \\frac{\\eta_1}{k_1}+\\frac{\\eta_1}{k_2}+\\frac{\\eta_1}{k_2}\\text{,}\\; \\ p_2 = \\frac{\\eta_1 \\eta_2}{k_1 k_2}\\text{,}\\; \\ q_1 =  \\eta_1\\; \\ \\text{and}\\; \\ q_2 = \\frac{\\eta_1 \\eta_2}{k_2}\n",
    "$$"
   ],
   "metadata": {}
  },
  {
   "cell_type": "markdown",
   "source": [
    "#### Relaxation Modulus\n",
    "$$\n",
    "G(t) = \\left[ \\left(q_1 - q_2 r_1\\right) e^{-r_1 t}  - \\left(q_1 - q_2 r_2\\right) e^{-r_2 t} \\right]/A\n",
    "$$"
   ],
   "metadata": {}
  },
  {
   "cell_type": "markdown",
   "source": [
    "$$\n",
    "\\text{where}\\; \\ r_1 = (p_1-A)/2p_2 \\text{,}\\; \\ r_2 = (p_1 +A) /2p_2 \\text{, and}\\; \\ A = \\sqrt{p_1^2 - 4p_2}\n",
    "$$"
   ],
   "metadata": {}
  },
  {
   "cell_type": "markdown",
   "source": [
    "#### Creep Modulus\n",
    "$$\n",
    "J(t) = \\frac{1}{k_1} + \\frac{t}{\\eta_1} + \\frac{1}{k_2} \\left(1-e^{-k_2 t/\\eta_2}\\right)\n",
    "$$"
   ],
   "metadata": {}
  },
  {
   "cell_type": "markdown",
   "source": [
    "#### Storage Modulus\n",
    "$$\n",
    "G^{\\prime}(\\omega) = \\frac{p_1 q_1 \\omega^2 - q_2 \\omega^2 (1-p_2 \\omega^2)}{p_1^2 \\omega^2 + (1-p_2 \\omega^2)^2}\n",
    "$$"
   ],
   "metadata": {}
  },
  {
   "cell_type": "markdown",
   "source": [
    "#### Loss Modulus\n",
    "$$\n",
    "G^{\\prime \\prime}(\\omega) = \\frac{p_1 q_2 \\omega^3 + q_1 \\omega (1-p_2 \\omega^2)}{p_1^2 \\omega^2 + (1-p_2 \\omega^2)^2}\n",
    "$$"
   ],
   "metadata": {}
  },
  {
   "cell_type": "markdown",
   "source": [
    "## Qualitative Behaviours of the Moduli"
   ],
   "metadata": {}
  },
  {
   "outputs": [],
   "cell_type": "code",
   "source": [
    "models = Vector{RheoModel}()\n",
    "\n",
    "# plot moduli for varying k₁\n",
    "for k in [0.5, 1.0, 2.0]\n",
    "\n",
    "    push!(models, RheoModel(BurgersLiquid, (η₁ = 1, k₁ = k, η₂ = 1, k₂ = 1)))\n",
    "\n",
    "end\n",
    "\n",
    "plotmodel(models)"
   ],
   "metadata": {},
   "execution_count": null
  },
  {
   "cell_type": "markdown",
   "source": [
    "**Reference**: Findley, William N., and Francis A. Davis. Creep and relaxation of nonlinear viscoelastic materials. Courier Corporation, 2013."
   ],
   "metadata": {}
  },
  {
   "cell_type": "markdown",
   "source": [
    "---\n",
    "\n",
    "*This notebook was generated using [Literate.jl](https://github.com/fredrikekre/Literate.jl).*"
   ],
   "metadata": {}
  }
 ],
 "nbformat_minor": 3,
 "metadata": {
  "language_info": {
   "file_extension": ".jl",
   "mimetype": "application/julia",
   "name": "julia",
   "version": "1.10.4"
  },
  "kernelspec": {
   "name": "julia-1.10",
   "display_name": "Julia 1.10.4",
   "language": "julia"
  }
 },
 "nbformat": 4
}
