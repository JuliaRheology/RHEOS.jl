{
 "cells": [
  {
   "cell_type": "markdown",
   "source": [
    "# Fractional Zener"
   ],
   "metadata": {}
  },
  {
   "outputs": [],
   "cell_type": "code",
   "source": [
    "using RHEOS\n",
    "# include a helper function for plotting\n",
    "include(\"assets/plothelper.jl\");"
   ],
   "metadata": {},
   "execution_count": null
  },
  {
   "outputs": [],
   "cell_type": "code",
   "source": [
    "Fract_Zener"
   ],
   "metadata": {},
   "execution_count": null
  },
  {
   "cell_type": "markdown",
   "source": [
    "#### Constitutive Equation\n",
    "$$\n",
    "\\sigma(t) + \\frac{c_\\alpha}{c_\\beta} \\frac{d^{\\alpha-\\beta} \\sigma(t)}{dt^{\\alpha-\\beta}}= c_{\\alpha} \\frac{d^\\alpha \\epsilon(t)}{dt^\\alpha} + c_\\gamma \\frac{d^\\gamma \\epsilon(t)}{dt^\\gamma}+ \\frac{c_\\alpha c_\\gamma}{c_\\beta}\\frac{d^{\\alpha+\\gamma-\\beta} \\epsilon(t)}{dt^{\\alpha+\\gamma-\\beta}}\n",
    "$$"
   ],
   "metadata": {}
  },
  {
   "cell_type": "markdown",
   "source": [
    "$$\n",
    "\\text{for}\\; \\ 0 \\leq \\beta \\leq \\alpha \\leq 1\n",
    "$$"
   ],
   "metadata": {}
  },
  {
   "cell_type": "markdown",
   "source": [
    "#### Relaxation Modulus\n",
    "$$\n",
    "G(t) = c_\\beta t^{-\\beta} E_{\\alpha-\\beta,1-\\beta}\\left(-\\frac{c_\\beta}{c_\\alpha} t^{\\alpha-\\beta}\\right) + \\frac{c_{\\gamma} }{\\Gamma(1-\\gamma)} t^{-\\gamma}\n",
    "$$"
   ],
   "metadata": {}
  },
  {
   "cell_type": "markdown",
   "source": [
    "#### Creep Modulus\n",
    "$$\n",
    "\\tilde{J}(s)= \\frac{1}{s}\\frac{c_\\alpha s^{\\alpha}+c_\\beta s^{\\beta}}{c_\\alpha s^\\alpha c_\\beta s^{\\beta} + c_\\gamma s^\\gamma (c_\\alpha s^\\alpha+c_\\beta s^\\beta)}\n",
    "$$"
   ],
   "metadata": {}
  },
  {
   "cell_type": "markdown",
   "source": [
    "#### Storage Modulus\n",
    "$$\n",
    "G^{\\prime}(\\omega) = \\frac{\\left(c_\\beta \\omega^\\beta\\right)^2 \\cdot c_\\alpha \\omega^\\alpha \\cos(\\alpha \\frac{\\pi}{2}) + \\left(c_\\alpha \\omega^\\alpha\\right)^2 \\cdot c_\\beta \\omega^\\beta \\cos(\\beta \\frac{\\pi}{2})}{\\left(c_\\alpha \\omega^\\alpha\\right)^2+\\left(c_\\beta \\omega^\\beta\\right)^2+2c_\\alpha \\omega^\\alpha \\cdot c_\\beta \\omega^\\beta \\cos((\\alpha-\\beta)\\frac{\\pi}{2})} + c_\\gamma \\omega^\\gamma \\cos\\left(\\gamma \\frac{\\pi}{2}\\right)\n",
    "$$"
   ],
   "metadata": {}
  },
  {
   "cell_type": "markdown",
   "source": [
    "#### Loss Modulus\n",
    "$$\n",
    "G^{\\prime\\prime}(\\omega) = \\frac{\\left(c_\\beta \\omega^\\beta\\right)^2 \\cdot c_\\alpha \\omega^\\alpha \\sin(\\alpha \\frac{\\pi}{2}) + \\left(c_\\alpha \\omega^\\alpha\\right)^2 \\cdot c_\\beta \\omega^\\beta \\sin(\\beta \\frac{\\pi}{2})}{\\left(c_\\alpha \\omega^\\alpha\\right)^2+\\left(c_\\beta \\omega^\\beta\\right)^2+2c_\\alpha \\omega^\\alpha \\cdot c_\\beta \\omega^\\beta \\cos((\\alpha-\\beta)\\frac{\\pi}{2})}+ c_\\gamma \\omega^\\gamma \\sin\\left(\\gamma \\frac{\\pi}{2}\\right)\n",
    "$$"
   ],
   "metadata": {}
  },
  {
   "cell_type": "markdown",
   "source": [
    "# Fractional SLS (Zener)"
   ],
   "metadata": {}
  },
  {
   "outputs": [],
   "cell_type": "code",
   "source": [
    "FractSLS_Zener"
   ],
   "metadata": {},
   "execution_count": null
  },
  {
   "outputs": [],
   "cell_type": "code",
   "source": [
    "models = Vector{RheoModel}()\n",
    "\n",
    "# plot moduli for varying α\n",
    "for alpha in [0.1, 0.25, 0.5, 0.74, 0.9]\n",
    "\n",
    "    push!(models, RheoModel(FractSLS_Zener, (cₐ = 1, a = alpha, kᵦ = 1, kᵧ = 1)))\n",
    "\n",
    "end\n",
    "\n",
    "plotmodel(models)"
   ],
   "metadata": {},
   "execution_count": null
  },
  {
   "cell_type": "markdown",
   "source": [
    "# Fractional Jeffreys (Zener)"
   ],
   "metadata": {}
  },
  {
   "outputs": [],
   "cell_type": "code",
   "source": [
    "FractJeffreys_Zener"
   ],
   "metadata": {},
   "execution_count": null
  },
  {
   "outputs": [],
   "cell_type": "code",
   "source": [
    "models = Vector{RheoModel}()\n",
    "\n",
    "# plot moduli for varying β\n",
    "for beta in [0.1, 0.25, 0.5, 0.74, 0.9]\n",
    "\n",
    "    push!(models, RheoModel(FractJeffreys_Zener, (ηₐ = 1, cᵦ = 1, β = beta, ηᵧ = 1)))\n",
    "\n",
    "end\n",
    "\n",
    "plotmodel(models, ymaxG = 2.0)"
   ],
   "metadata": {},
   "execution_count": null
  },
  {
   "cell_type": "markdown",
   "source": [
    "# Standard Linear Solid (Zener)"
   ],
   "metadata": {}
  },
  {
   "outputs": [],
   "cell_type": "code",
   "source": [
    "SLS_Zener"
   ],
   "metadata": {},
   "execution_count": null
  },
  {
   "outputs": [],
   "cell_type": "code",
   "source": [
    "models = Vector{RheoModel}()\n",
    "\n",
    "# plot moduli for varying kᵦ\n",
    "for k in [1.0, 3.0, 5.0]\n",
    "\n",
    "    push!(models, RheoModel(SLS_Zener, (η = 1, kᵦ = k, kᵧ = 1)))\n",
    "\n",
    "end\n",
    "\n",
    "plotmodel(models)"
   ],
   "metadata": {},
   "execution_count": null
  },
  {
   "cell_type": "markdown",
   "source": [
    "# Jeffreys (Zener)"
   ],
   "metadata": {}
  },
  {
   "outputs": [],
   "cell_type": "code",
   "source": [
    "Jeffreys_Zener"
   ],
   "metadata": {},
   "execution_count": null
  },
  {
   "outputs": [],
   "cell_type": "code",
   "source": [
    "models = Vector{RheoModel}()\n",
    "\n",
    "# plot moduli for varying ηₐ\n",
    "for eta in [1.0, 5.0, 8.0]\n",
    "\n",
    "    push!(models, RheoModel(Jeffreys_Zener, (ηₐ = eta, k = 3, ηᵧ = 1)))\n",
    "\n",
    "end\n",
    "\n",
    "plotmodel(models)"
   ],
   "metadata": {},
   "execution_count": null
  },
  {
   "cell_type": "markdown",
   "source": [
    "# Fractional Solid"
   ],
   "metadata": {}
  },
  {
   "outputs": [],
   "cell_type": "code",
   "source": [
    "FractSolid"
   ],
   "metadata": {},
   "execution_count": null
  },
  {
   "outputs": [],
   "cell_type": "code",
   "source": [
    "models = Vector{RheoModel}()\n",
    "\n",
    "# plot moduli for varying β\n",
    "for beta in [0.1, 0.25, 0.5, 0.74, 0.9]\n",
    "\n",
    "    push!(models, RheoModel(FractSolid, (η = 1, cᵦ = 1, β = beta, k = 0.5)))\n",
    "\n",
    "end\n",
    "\n",
    "plotmodel(models, ymaxG = 2)"
   ],
   "metadata": {},
   "execution_count": null
  },
  {
   "cell_type": "markdown",
   "source": [
    "---\n",
    "\n",
    "*This notebook was generated using [Literate.jl](https://github.com/fredrikekre/Literate.jl).*"
   ],
   "metadata": {}
  }
 ],
 "nbformat_minor": 3,
 "metadata": {
  "language_info": {
   "file_extension": ".jl",
   "mimetype": "application/julia",
   "name": "julia",
   "version": "1.10.2"
  },
  "kernelspec": {
   "name": "julia-1.10",
   "display_name": "Julia 1.10.2",
   "language": "julia"
  }
 },
 "nbformat": 4
}
