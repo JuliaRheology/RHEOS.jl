{
 "cells": [
  {
   "cell_type": "markdown",
   "source": [
    "# Fractional Kelvin-Voigt"
   ],
   "metadata": {}
  },
  {
   "outputs": [],
   "cell_type": "code",
   "source": [
    "using RHEOS\n",
    "# include a helper function for plotting\n",
    "include(\"assets/plothelper.jl\");"
   ],
   "metadata": {},
   "execution_count": null
  },
  {
   "outputs": [],
   "cell_type": "code",
   "source": [
    "Fract_KelvinVoigt"
   ],
   "metadata": {},
   "execution_count": null
  },
  {
   "cell_type": "markdown",
   "source": [
    "#### Constitutive Equation\n",
    "$$\n",
    "\\sigma(t) = c_\\alpha \\frac{d^{\\alpha} \\epsilon(t)}{dt^{\\alpha}}+ c_{\\beta} \\frac{d^\\beta \\epsilon(t)}{dt^\\beta}\n",
    "$$"
   ],
   "metadata": {}
  },
  {
   "cell_type": "markdown",
   "source": [
    "$$\n",
    "\\text{for}\\; \\ 0 \\leq \\beta \\leq \\alpha \\leq 1\n",
    "$$"
   ],
   "metadata": {}
  },
  {
   "cell_type": "markdown",
   "source": [
    "#### Relaxation Modulus\n",
    "$$\n",
    "G(t) =\\frac{c_{\\alpha} }{\\Gamma(1-\\alpha)} t^{-\\alpha}+\\frac{c_{\\beta} }{\\Gamma(1-\\beta)} t^{-\\beta}\n",
    "$$"
   ],
   "metadata": {}
  },
  {
   "cell_type": "markdown",
   "source": [
    "#### Creep Modulus\n",
    "$$\n",
    "J(t) = \\frac{t^{\\alpha}}{c_\\alpha} E_{\\alpha-\\beta,1+\\alpha}\\left(-\\frac{c_\\beta}{c_\\alpha} t^{\\alpha-\\beta}\\right)\n",
    "$$"
   ],
   "metadata": {}
  },
  {
   "cell_type": "markdown",
   "source": [
    "#### Storage Modulus\n",
    "$$\n",
    "G^{\\prime}(\\omega) = c_\\alpha \\omega^\\alpha \\cos\\left(\\alpha \\frac{\\pi}{2}\\right) + c_\\beta \\omega^\\beta \\cos \\left( \\beta \\frac{\\pi}{2}\\right)\n",
    "$$"
   ],
   "metadata": {}
  },
  {
   "cell_type": "markdown",
   "source": [
    "#### Loss Modulus\n",
    "$$\n",
    "G^{\\prime\\prime}(\\omega) = c_\\alpha \\omega^\\alpha \\sin\\left(\\alpha \\frac{\\pi}{2}\\right) + c_\\beta \\omega^\\beta \\sin \\left( \\beta \\frac{\\pi}{2}\\right)\n",
    "$$"
   ],
   "metadata": {}
  },
  {
   "cell_type": "markdown",
   "source": [
    "# Fractional (Spring) Kelvin-Voigt"
   ],
   "metadata": {}
  },
  {
   "outputs": [],
   "cell_type": "code",
   "source": [
    "FractS_KelvinVoigt"
   ],
   "metadata": {},
   "execution_count": null
  },
  {
   "outputs": [],
   "cell_type": "code",
   "source": [
    "models = Vector{RheoModel}()\n",
    "\n",
    "# plot moduli for varying α\n",
    "for alpha in [0.1, 0.3, 0.5, 0.7, 0.9]\n",
    "\n",
    "    push!(models, RheoModel(FractS_KelvinVoigt, (cₐ = 1.0, a = alpha, k = 1.0)))\n",
    "\n",
    "end\n",
    "\n",
    "plotmodel(models, ymaxG = 5.0)"
   ],
   "metadata": {},
   "execution_count": null
  },
  {
   "cell_type": "markdown",
   "source": [
    "# Fractional (Dashpot) Kelvin-Voigt"
   ],
   "metadata": {}
  },
  {
   "outputs": [],
   "cell_type": "code",
   "source": [
    "FractD_KelvinVoigt"
   ],
   "metadata": {},
   "execution_count": null
  },
  {
   "outputs": [],
   "cell_type": "code",
   "source": [
    "models = Vector{RheoModel}()\n",
    "\n",
    "# plot moduli for varying β\n",
    "for beta in [0.1, 0.3, 0.5, 0.7, 0.9]\n",
    "\n",
    "    push!(models, RheoModel(FractD_KelvinVoigt, (η = 10, cᵦ= 1.0, β = beta)))\n",
    "\n",
    "end\n",
    "\n",
    "plotmodel(models, ymaxG = 3.0)"
   ],
   "metadata": {},
   "execution_count": null
  },
  {
   "cell_type": "markdown",
   "source": [
    "# Kelvin-Voigt"
   ],
   "metadata": {}
  },
  {
   "outputs": [],
   "cell_type": "code",
   "source": [
    "KelvinVoigt"
   ],
   "metadata": {},
   "execution_count": null
  },
  {
   "outputs": [],
   "cell_type": "code",
   "source": [
    "models = Vector{RheoModel}()\n",
    "\n",
    "# plot moduli for varying k\n",
    "for η in [0.1, 1.0, 5.0]\n",
    "\n",
    "    push!(models, RheoModel(KelvinVoigt, (η = η, k = 1)))\n",
    "\n",
    "end\n",
    "\n",
    "plotmodel(models)"
   ],
   "metadata": {},
   "execution_count": null
  },
  {
   "cell_type": "markdown",
   "source": [
    "---\n",
    "\n",
    "*This notebook was generated using [Literate.jl](https://github.com/fredrikekre/Literate.jl).*"
   ],
   "metadata": {}
  }
 ],
 "nbformat_minor": 3,
 "metadata": {
  "language_info": {
   "file_extension": ".jl",
   "mimetype": "application/julia",
   "name": "julia",
   "version": "1.10.2"
  },
  "kernelspec": {
   "name": "julia-1.10",
   "display_name": "Julia 1.10.2",
   "language": "julia"
  }
 },
 "nbformat": 4
}
