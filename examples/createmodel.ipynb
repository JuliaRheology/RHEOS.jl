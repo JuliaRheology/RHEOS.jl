{
 "cells": [
  {
   "cell_type": "markdown",
   "metadata": {},
   "source": [
    "# Create your model"
   ]
  },
  {
   "cell_type": "markdown",
   "metadata": {},
   "source": [
    "RHEOS provide an extensive model library (see Models section). However, if you would like to use a model that has not already been implemented in RHEOS, you can quickly define your own model as described below. Note that currently RHEOS can only handle linear viscoelastic models. Therefore, any added model must satisfy this condition. \n",
    "\n",
    "The RheoModelClass constructor does not need to contain all moduli functions, depending on what variables are fitted and predicted down the line (relaxation modulus G for stress, creep function J for strain, and complex moduli Gp and Gpp for frequency domain data). As an example, we will assume that only the relaxation modulus is known."
   ]
  },
  {
   "cell_type": "code",
   "execution_count": 4,
   "metadata": {
    "collapsed": true
   },
   "outputs": [],
   "source": [
    "using RHEOS\n",
    "using PyPlot"
   ]
  },
  {
   "cell_type": "code",
   "execution_count": 5,
   "metadata": {},
   "outputs": [
    {
     "data": {
      "text/plain": [
       "\n",
       "Model name: power_empirical\n",
       "\n",
       "Free parameters: A and α\n",
       "Empirical model"
      ]
     },
     "execution_count": 5,
     "metadata": {},
     "output_type": "execute_result"
    }
   ],
   "source": [
    "PowerLawEmpirical =  RheoModelClass(\n",
    "                        # Model name\n",
    "                        name=\"power_empirical\",\n",
    "                        # Model parameters,\n",
    "                        p = [:A, :α],\n",
    "                        # Relaxation modulus\n",
    "                        G = quote\n",
    "                                A*t.^(-α)\n",
    "                            end,\n",
    "                        # Network\n",
    "                        info= \"Empirical model\"\n",
    "                        )"
   ]
  },
  {
   "cell_type": "code",
   "execution_count": 6,
   "metadata": {},
   "outputs": [
    {
     "data": {
      "image/png": "[encoded data removed]",
      "text/plain": [
       "Figure(PyObject <matplotlib.figure.Figure object at 0x7f7e96a61ba8>)"
      ]
     },
     "metadata": {},
     "output_type": "display_data"
    }
   ],
   "source": [
    "# generate timeline\n",
    "dϵ=timeline()\n",
    "# calculates strain data by applying a function of time\n",
    "dϵ=strainfunction(dϵ,hstep())\n",
    "\n",
    "# Fix model parameters\n",
    "powermodel = RheoModel(PowerLawEmpirical, (A = 1, α = 0.8))\n",
    "\n",
    "# Evaluate relaxation response\n",
    "dpower = modelpredict(dϵ, powermodel)\n",
    "\n",
    "fig, ax = subplots(1,1, figsize=(3,3));\n",
    "ax.loglog(dpower.t,dpower.σ)\n",
    "ax.set_xlabel(\"Time\")\n",
    "ax.set_ylabel(\"Stress\")\n",
    "ax.set_ylim(bottom =0.1, top = 20)\n",
    "ax.grid(\"on\")"
   ]
  },
  {
   "cell_type": "markdown",
   "metadata": {},
   "source": [
    "In a similar way, it is possible to define a model with only creep modulus. In this case, only strain can be fitted/predicted. "
   ]
  }
 ],
 "metadata": {
  "anaconda-cloud": {},
  "kernelspec": {
   "display_name": "Julia 1.1.0",
   "language": "julia",
   "name": "julia-1.1"
  },
  "language_info": {
   "file_extension": ".jl",
   "mimetype": "application/julia",
   "name": "julia",
   "version": "1.1.0"
  }
 },
 "nbformat": 4,
 "nbformat_minor": 1
}
