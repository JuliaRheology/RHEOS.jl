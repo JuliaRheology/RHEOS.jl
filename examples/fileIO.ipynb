{
 "cells": [
  {
   "cell_type": "markdown",
   "metadata": {},
   "source": [
    "#  File I/O"
   ]
  },
  {
   "cell_type": "markdown",
   "metadata": {},
   "source": [
    "## Import data"
   ]
  },
  {
   "cell_type": "code",
   "execution_count": 6,
   "metadata": {
    "collapsed": true
   },
   "outputs": [],
   "source": [
    "using RHEOS"
   ]
  },
  {
   "cell_type": "markdown",
   "metadata": {},
   "source": [
    "RHEOS has a convenience function for importing data from CSV files: [`importcsv`](@ref). The default column delimiter is ',' but an alternative can be specified as a keyword argument. The row delimiter is a newline character ('\\n'). For standard time-domain viscoelastic testing data RHEOS expects either stress, strain and time data, just stress and time, or just strain and time. Arguments must be identified by providing the number of the column in which they are contained. The function returns a [`RheoTimeData`](@ref) object."
   ]
  },
  {
   "cell_type": "code",
   "execution_count": 7,
   "metadata": {},
   "outputs": [
    {
     "name": "stderr",
     "output_type": "stream",
     "text": [
      "┌ Warning: Please note that NaN data rows are not included in resultant data struct.\n",
      "└ @ RHEOS /home/alessandra/.julia/dev/RHEOS/src/IO.jl:11\n"
     ]
    },
    {
     "data": {
      "text/plain": [
       "strain_and_stress::TimeDataType = 3"
      ]
     },
     "execution_count": 7,
     "metadata": {},
     "output_type": "execute_result"
    }
   ],
   "source": [
    "# Import file\n",
    "data_1 = importcsv(\"data_time.csv\", t_col=1, ϵ_col=2, σ_col=3)\n",
    "# Check data type\n",
    "RheoTimeDataType(data_1)"
   ]
  },
  {
   "cell_type": "code",
   "execution_count": 8,
   "metadata": {},
   "outputs": [
    {
     "name": "stderr",
     "output_type": "stream",
     "text": [
      "┌ Warning: Please note that NaN data rows are not included in resultant data struct.\n",
      "└ @ RHEOS /home/alessandra/.julia/dev/RHEOS/src/IO.jl:11\n"
     ]
    },
    {
     "data": {
      "text/plain": [
       "strain_only::TimeDataType = 1"
      ]
     },
     "execution_count": 8,
     "metadata": {},
     "output_type": "execute_result"
    }
   ],
   "source": [
    "# Import incomplete data\n",
    "data_2 = importcsv(\"data_time.csv\", t_col=1, ϵ_col=2)\n",
    "# Check data type\n",
    "RheoTimeDataType(data_2)"
   ]
  },
  {
   "cell_type": "markdown",
   "metadata": {},
   "source": [
    "The function [`importcsv`](@ref) can also be used to import frequency, storage modulus, and loss modulus data (as a complete set). In this case, the function returns a [`RheoFreqData`](@ref) object."
   ]
  },
  {
   "cell_type": "code",
   "execution_count": 9,
   "metadata": {},
   "outputs": [
    {
     "name": "stderr",
     "output_type": "stream",
     "text": [
      "┌ Warning: Please note that NaN data rows are not included in resultant data struct.\n",
      "└ @ RHEOS /home/alessandra/.julia/dev/RHEOS/src/IO.jl:11\n"
     ]
    },
    {
     "data": {
      "text/plain": [
       "with_modulus::FreqDataType = 1"
      ]
     },
     "execution_count": 9,
     "metadata": {},
     "output_type": "execute_result"
    }
   ],
   "source": [
    "# Import file\n",
    "data_f = importcsv(\"data_freq.csv\", ω_col=1, Gp_col=2, Gpp_col=3)\n",
    "# Check data type\n",
    "RheoFreqDataType(data_f)"
   ]
  },
  {
   "cell_type": "markdown",
   "metadata": {},
   "source": [
    "## Export data"
   ]
  },
  {
   "cell_type": "markdown",
   "metadata": {},
   "source": [
    "If you want to analyse or plot your data in software other than Julia you will likely want to export it to a CSV file. To export [`RheoTimeData`](@ref) and [`RheoFreqData`](@ref) objects to CSV files we can use the [`exportcsv`](@ref) function. For the two complete data-sets we imported above, we can export them into new files in the following way. As with [`importcsv`](@ref), the order of the columns can be specified by the user."
   ]
  },
  {
   "cell_type": "code",
   "execution_count": 12,
   "metadata": {
    "collapsed": true
   },
   "outputs": [],
   "source": [
    "# Export file\n",
    "exportcsv(data_1,\"./export_timedata.csv\")\n",
    "exportcsv(data_f,\"./export_frequdata.csv\")"
   ]
  }
 ],
 "metadata": {
  "anaconda-cloud": {},
  "kernelspec": {
   "display_name": "Julia 1.1.1",
   "language": "julia",
   "name": "julia-1.1"
  },
  "language_info": {
   "file_extension": ".jl",
   "mimetype": "application/julia",
   "name": "julia",
   "version": "1.1.1"
  }
 },
 "nbformat": 4,
 "nbformat_minor": 1
}
