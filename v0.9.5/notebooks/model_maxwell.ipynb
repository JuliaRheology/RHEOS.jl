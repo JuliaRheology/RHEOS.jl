{
 "cells": [
  {
   "cell_type": "markdown",
   "source": [
    "# Fractional Maxwell"
   ],
   "metadata": {}
  },
  {
   "outputs": [],
   "cell_type": "code",
   "source": [
    "using RHEOS\n",
    "# include a helper function for plotting\n",
    "include(\"assets/plothelper.jl\");"
   ],
   "metadata": {},
   "execution_count": null
  },
  {
   "outputs": [],
   "cell_type": "code",
   "source": [
    "Fract_Maxwell"
   ],
   "metadata": {},
   "execution_count": null
  },
  {
   "cell_type": "markdown",
   "source": [
    "#### Constitutive Equation\n",
    "$$\n",
    "\\sigma(t) + \\frac{c_\\alpha}{c_\\beta} \\frac{d^{\\alpha-\\beta} \\sigma(t)}{dt^{\\alpha-\\beta}}= c_{\\alpha} \\frac{d^\\alpha \\epsilon(t)}{dt^\\alpha}\n",
    "$$"
   ],
   "metadata": {}
  },
  {
   "cell_type": "markdown",
   "source": [
    "$$\n",
    "\\text{for}\\; \\ 0 \\leq \\beta \\leq \\alpha \\leq 1\n",
    "$$"
   ],
   "metadata": {}
  },
  {
   "cell_type": "markdown",
   "source": [
    "#### Relaxation Modulus\n",
    "$$\n",
    "G(t) = c_\\beta t^{-\\beta} E_{\\alpha-\\beta,1-\\beta}\\left(-\\frac{c_\\beta}{c_\\alpha} t^{\\alpha-\\beta}\\right)\n",
    "$$"
   ],
   "metadata": {}
  },
  {
   "cell_type": "markdown",
   "source": [
    "#### Creep Modulus\n",
    "$$\n",
    "J(t) = \\frac{1}{c_\\alpha \\Gamma(1+\\alpha)}t^\\alpha+\\frac{1}{c_\\beta \\Gamma(1+\\beta)}t^\\beta\n",
    "$$"
   ],
   "metadata": {}
  },
  {
   "cell_type": "markdown",
   "source": [
    "#### Storage Modulus\n",
    "$$\n",
    "G^{\\prime}(\\omega) = \\frac{\\left(c_\\beta \\omega^\\beta\\right)^2 \\cdot c_\\alpha \\omega^\\alpha \\cos(\\alpha \\frac{\\pi}{2}) + \\left(c_\\alpha \\omega^\\alpha\\right)^2 \\cdot c_\\beta \\omega^\\beta \\cos(\\beta \\frac{\\pi}{2})}{\\left(c_\\alpha \\omega^\\alpha\\right)^2+\\left(c_\\beta \\omega^\\beta\\right)^2+2c_\\alpha \\omega^\\alpha \\cdot c_\\beta \\omega^\\beta \\cos((\\alpha-\\beta)\\frac{\\pi}{2})}\n",
    "$$"
   ],
   "metadata": {}
  },
  {
   "cell_type": "markdown",
   "source": [
    "#### Loss Modulus\n",
    "$$\n",
    "G^{\\prime\\prime}(\\omega) = \\frac{\\left(c_\\beta \\omega^\\beta\\right)^2 \\cdot c_\\alpha \\omega^\\alpha \\sin(\\alpha \\frac{\\pi}{2}) + \\left(c_\\alpha \\omega^\\alpha\\right)^2 \\cdot c_\\beta \\omega^\\beta \\sin(\\beta \\frac{\\pi}{2})}{\\left(c_\\alpha \\omega^\\alpha\\right)^2+\\left(c_\\beta \\omega^\\beta\\right)^2+2c_\\alpha \\omega^\\alpha \\cdot c_\\beta \\omega^\\beta \\cos((\\alpha-\\beta)\\frac{\\pi}{2})}\n",
    "$$"
   ],
   "metadata": {}
  },
  {
   "cell_type": "markdown",
   "source": [
    "# Fractional (Spring) Maxwell"
   ],
   "metadata": {}
  },
  {
   "outputs": [],
   "cell_type": "code",
   "source": [
    "FractS_Maxwell"
   ],
   "metadata": {},
   "execution_count": null
  },
  {
   "outputs": [],
   "cell_type": "code",
   "source": [
    "models = Vector{RheoModel}()\n",
    "\n",
    "# plot moduli for varying α\n",
    "for alpha in [0.1, 0.3, 0.5, 0.7, 0.9]\n",
    "\n",
    "    push!(models, RheoModel(FractS_Maxwell, (cₐ = 1.0, a = alpha, k = 1.0)))\n",
    "\n",
    "end\n",
    "\n",
    "plotmodel(models)"
   ],
   "metadata": {},
   "execution_count": null
  },
  {
   "cell_type": "markdown",
   "source": [
    "# Fraction (Dashpot) Maxwell"
   ],
   "metadata": {}
  },
  {
   "outputs": [],
   "cell_type": "code",
   "source": [
    "FractD_Maxwell"
   ],
   "metadata": {},
   "execution_count": null
  },
  {
   "outputs": [],
   "cell_type": "code",
   "source": [
    "models = Vector{RheoModel}()\n",
    "\n",
    "# plot moduli for varying β\n",
    "for beta in [0.1, 0.3, 0.5, 0.7, 0.9]\n",
    "\n",
    "    push!(models, RheoModel(FractD_Maxwell, (η = 10, cᵦ= 1.0, β = beta)))\n",
    "\n",
    "end\n",
    "\n",
    "plotmodel(models, ymaxG = 2.0)"
   ],
   "metadata": {},
   "execution_count": null
  },
  {
   "cell_type": "markdown",
   "source": [
    "# Maxwell"
   ],
   "metadata": {}
  },
  {
   "outputs": [],
   "cell_type": "code",
   "source": [
    "Maxwell"
   ],
   "metadata": {},
   "execution_count": null
  },
  {
   "outputs": [],
   "cell_type": "code",
   "source": [
    "models = Vector{RheoModel}()\n",
    "\n",
    "# plot moduli for varying k\n",
    "for k in [5.0, 10.0, 20.0]\n",
    "\n",
    "    push!(models, RheoModel(Maxwell, (η = 10, k = k)))\n",
    "\n",
    "end\n",
    "\n",
    "plotmodel(models)"
   ],
   "metadata": {},
   "execution_count": null
  },
  {
   "cell_type": "markdown",
   "source": [
    "---\n",
    "\n",
    "*This notebook was generated using [Literate.jl](https://github.com/fredrikekre/Literate.jl).*"
   ],
   "metadata": {}
  }
 ],
 "nbformat_minor": 3,
 "metadata": {
  "language_info": {
   "file_extension": ".jl",
   "mimetype": "application/julia",
   "name": "julia",
   "version": "1.10.2"
  },
  "kernelspec": {
   "name": "julia-1.10",
   "display_name": "Julia 1.10.2",
   "language": "julia"
  }
 },
 "nbformat": 4
}
